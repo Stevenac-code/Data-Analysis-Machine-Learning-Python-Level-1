{
  "nbformat": 4,
  "nbformat_minor": 0,
  "metadata": {
    "colab": {
      "name": "sesion2.ipynb",
      "provenance": [],
      "collapsed_sections": [],
      "include_colab_link": true
    },
    "kernelspec": {
      "name": "python3",
      "display_name": "Python 3"
    }
  },
  "cells": [
    {
      "cell_type": "markdown",
      "metadata": {
        "id": "view-in-github",
        "colab_type": "text"
      },
      "source": [
        "<a href=\"https://colab.research.google.com/github/Stevenac-code/Data-Analysis-Machine-Learning-Python-Level-1/blob/master/Session2.ipynb\" target=\"_parent\"><img src=\"https://colab.research.google.com/assets/colab-badge.svg\" alt=\"Open In Colab\"/></a>"
      ]
    },
    {
      "cell_type": "markdown",
      "metadata": {
        "id": "VZSV2ejaAulh"
      },
      "source": [
        "<p><img alt=\"Colaboratory logo\" height=\"140px\" src=\"https://upload.wikimedia.org/wikipedia/commons/archive/f/fb/20161010213812%21Escudo-UdeA.svg\" align=\"left\" hspace=\"10px\" vspace=\"0px\"></p>\n",
        "\n",
        "# **Diplomado de Análisis de datos y Machine Learning en Python**\n",
        "\n",
        "\n",
        "El presente diplomado hace parte del centro de Big Data de la facultad de ciencias exactas y naturales (FCEN) de la Universidad de Antioquia.\n",
        "\n",
        "## **Sesión 2**\n",
        "\n",
        "## **Contenido**\n",
        "   \n",
        "- <a href=\"#int\"> Introducción a Python</a><br>\n",
        "- <a href=\"#sin\"> Sintáxis de Python</a><br>\n",
        "- <a href=\"#sem\"> Semántica de Python</a><br>\n",
        "  - <a href=\"#var\"> Variables</a><br>\n",
        "  - <a href=\"#ope\"> Operadores</a><br>\n",
        "    - <a href=\"#opa\"> Operadores aritméticos</a><br>\n",
        "    - <a href=\"#opc\"> Operadores de comparación</a><br>\n",
        "    - <a href=\"#opb\"> Operaciones booleanas</a><br>\n",
        "    - <a href=\"#opm\"> Operadores de identidad y membresía</a><br>"
      ]
    },
    {
      "cell_type": "markdown",
      "metadata": {
        "id": "5ZZDpNjzBnTo"
      },
      "source": [
        "<p><a name=\"int\"></a></p>\n",
        "\n",
        "# **Introducción a Python**\n",
        "\n",
        "Creado en los 80's por Guido Van Rossum, Python se ha convertido desde entonces en una herramienta esencial para muchos programadores, ingenieros, investigadores y científicos de datos, tanto en la academia como en la industria.\n",
        "\n",
        "El atractivo de Python radica en su simplicidad, así como en el gran ecosistema de herramientas específicas que se han construido sobre este. Por ejemplo, la mayor parte del código de Python en ciencia de datos se basa en un grupo de paquetes útiles: Numpy, Matplotlib, SciPy, Pandas y Scikit-Learn. No menos importantes son las numerosas otras herramientas y paquetes que acompañan a estos: si hay una tarea científica que deseemos realizar, es probable que encontremos un paquete que realice dicha tarea. Sin embargo, para aprovechar el poder de este ecosistema, primero debemos familiarizarnos con el lenguaje Python por sí solo.\n",
        "\n",
        "Python es un lenguaje de programación de alto nivel (sintaxis simple), interpretado, interactivo y orientado a objetos:\n",
        "\n",
        "* **Interpretado**: Python es procesado al momento de la ejecución por el interpretador. No se necesita de un proceso previo de compilación para la posterior ejecución del programa.\n",
        "\n",
        "* **Interactivo**: Podemos interactuar con el intérprete directamente para escribir los programas.\n",
        "\n",
        "* **Orientado a objetos**: Python es un lenguaje orientado a objetos, una técnica de programación que encapsula el código dentro de objetos.\n",
        "\n",
        "**Ejecutando código de Python**\n",
        "\n",
        "Python es un lenguaje flexible y existen varias formas de usarlo. Una característica que distingue a Python de otros lenguajes de programación es que este es un lenguaje *interpreado*. Esto significa que se ejecuta línea por línea, lo que permite que la programación sea interactiva de una manera que no es directamente posible con lenguajes compilados como C++ o Java.\n",
        "\n",
        "Existen diferentes maneras de ejecutar código de Python. Nosotros usaremos un enfoque interactivo proporcionado por los *cuadernos de Jupyter*. \n",
        "\n",
        "**¿Qué es un Cuaderno?**\n",
        "\n",
        "Es un formato de documento que permite combinar código ejecutable, texto, gráficos e incluso características interactivas en un solo documento. Una excelente alternativa es **Google Colaboratory**, el cual es un servicio en la nube, que nos provee de un cuaderno de Jupyter al que podemos acceder con un navegador web sin importar el sistema operativo. Tiene como grandes ventajas:\n",
        "\n",
        "* Posibilidad de activar diferentes procesadores: GPU (unidad de procesamiento gráfico) o TPU (unidad de procesamiento tensorial)\n",
        "* Podemos crear cuaderdos de Python 3: Debido a que Python 2 fue oficialmente descontinuado el primero de enero del 2020, nos centraremos exclusivamente en Python 3.\n",
        "* Tiene preinstaladas las librerías comunes \n",
        "* La posibilidad de enlazar con nuestra cuenta de Google Drive, podemos leer desde ahí archivos csv de entrada o guardar imágenes de salida, etc.\n",
        "\n",
        "\n",
        "\n",
        "\n",
        "\n"
      ]
    },
    {
      "cell_type": "markdown",
      "metadata": {
        "id": "KSIBv3h9aKjg"
      },
      "source": [
        "<p><a name=\"sin\"></a></p>\n",
        "\n",
        "# **Sintáxis de Python**\n",
        "\n",
        " Comencemos discutiendo las características principales de la sintaxis de Python.\n",
        "\n",
        "La sintaxis se refiere a la estructura del lenguaje (es decir, lo que constituye un programa formado correctamente). Por el momento, no nos centraremos en la semántica, el significado de las palabras y los símbolos dentro de la sintaxis, sino que volveremos a esto más adelante"
      ]
    },
    {
      "cell_type": "code",
      "metadata": {
        "id": "sng9sdMQ_fB3",
        "colab": {
          "base_uri": "https://localhost:8080/"
        },
        "outputId": "d7ae71aa-b087-4d42-e867-8e0b86774e03"
      },
      "source": [
        "print('Hola mundo')"
      ],
      "execution_count": null,
      "outputs": [
        {
          "output_type": "stream",
          "text": [
            "Hola mundo\n"
          ],
          "name": "stdout"
        }
      ]
    },
    {
      "cell_type": "code",
      "metadata": {
        "colab": {
          "base_uri": "https://localhost:8080/"
        },
        "id": "LDog1ObbCEkO",
        "outputId": "971902af-fee9-481d-b6ff-ca1e264835a4"
      },
      "source": [
        "from google.colab import drive\n",
        "drive.mount('/content/drive')"
      ],
      "execution_count": null,
      "outputs": [
        {
          "output_type": "stream",
          "text": [
            "Mounted at /content/drive\n"
          ],
          "name": "stdout"
        }
      ]
    },
    {
      "cell_type": "markdown",
      "metadata": {
        "id": "hSgkNc5Yakqa"
      },
      "source": [
        "**Los comentarios en Python se marcan con #**\n"
      ]
    },
    {
      "cell_type": "code",
      "metadata": {
        "id": "KgA3rjKSai9a"
      },
      "source": [
        "# Esto es un comentario"
      ],
      "execution_count": null,
      "outputs": []
    },
    {
      "cell_type": "markdown",
      "metadata": {
        "id": "a2FMxcJIaoG6"
      },
      "source": [
        "Los comentarios en Python se indican con un signo de número `#`. El intérprete ignora cualquier cosa en la línea que siga al signo de número"
      ]
    },
    {
      "cell_type": "code",
      "metadata": {
        "id": "OztWmCezapab",
        "colab": {
          "base_uri": "https://localhost:8080/"
        },
        "outputId": "5b44de5b-07ea-4f46-84b5-047f5c8c377c"
      },
      "source": [
        "print(2 + 4) #Esto es una suma aritmética"
      ],
      "execution_count": null,
      "outputs": [
        {
          "output_type": "stream",
          "text": [
            "6\n"
          ],
          "name": "stdout"
        }
      ]
    },
    {
      "cell_type": "markdown",
      "metadata": {
        "id": "XHFktA-XarWR"
      },
      "source": [
        " Si queremos comentar un bloque de líneas, podemos utilizar `\"\"\"` de la siguiente manera:"
      ]
    },
    {
      "cell_type": "code",
      "metadata": {
        "id": "qgyyc3nFar9T",
        "colab": {
          "base_uri": "https://localhost:8080/"
        },
        "outputId": "16d3bf8f-7064-4d25-f902-b9f69bd07e81"
      },
      "source": [
        "print( 1 + 2)\n",
        "\n",
        "\"\"\"\n",
        "Esto es un comentario multilinea\n",
        "python también lo ignora\n",
        "(En realidad recibe el nombre de Doc-string,\n",
        "pero luego veremos qué es esa vaina)\n",
        "\"\"\"\n",
        "#Este es un comentario de una sola linea\n",
        "\n",
        "print(\"Esta es una impresión en pantalla\")\n"
      ],
      "execution_count": null,
      "outputs": [
        {
          "output_type": "stream",
          "text": [
            "3\n",
            "Esta es una impresión en pantalla\n"
          ],
          "name": "stdout"
        }
      ]
    },
    {
      "cell_type": "markdown",
      "metadata": {
        "id": "RkVCkOxUav8x"
      },
      "source": [
        "**El final de línea termina una sentencia**\n",
        "\n",
        "La siguiente línea en el código es"
      ]
    },
    {
      "cell_type": "code",
      "metadata": {
        "id": "O6qwqImLawxi"
      },
      "source": [
        "variable_ejemplo1 = 5"
      ],
      "execution_count": null,
      "outputs": []
    },
    {
      "cell_type": "code",
      "metadata": {
        "id": "2T_rslEDBDMl",
        "colab": {
          "base_uri": "https://localhost:8080/"
        },
        "outputId": "5ba80ccd-d597-4c41-8e44-4cf9768fbd02"
      },
      "source": [
        "print(variable_ejemplo1)"
      ],
      "execution_count": null,
      "outputs": [
        {
          "output_type": "stream",
          "text": [
            "5\n"
          ],
          "name": "stdout"
        }
      ]
    },
    {
      "cell_type": "code",
      "metadata": {
        "id": "r7TtLN_6BDJb",
        "colab": {
          "base_uri": "https://localhost:8080/"
        },
        "outputId": "23429f37-d89d-4646-b985-c0cbffcad1ae"
      },
      "source": [
        "variable_ejemplo2 = 4\n",
        "print(variable_ejemplo2)"
      ],
      "execution_count": null,
      "outputs": [
        {
          "output_type": "stream",
          "text": [
            "4\n"
          ],
          "name": "stdout"
        }
      ]
    },
    {
      "cell_type": "code",
      "metadata": {
        "id": "lgyN3rb5ZcSu",
        "colab": {
          "base_uri": "https://localhost:8080/"
        },
        "outputId": "bae93269-cdad-4651-badf-920c61fa226e"
      },
      "source": [
        "texto = \"En un lugar de la Mancha, de cuyo nombre no quiero acordarme, \\n\\\n",
        "no ha mucho tiempo que vivía un hidalgo de los de lanza en astillero, \\n\\\n",
        "adarga antigua, rocín flaco y galgo corredor\"\n",
        "print(texto)"
      ],
      "execution_count": null,
      "outputs": [
        {
          "output_type": "stream",
          "text": [
            "En un lugar de la Mancha, de cuyo nombre no quiero acordarme, \n",
            "no ha mucho tiempo que vivía un hidalgo de los de lanza en astillero, \n",
            "adarga antigua, rocín flaco y galgo corredor\n"
          ],
          "name": "stdout"
        }
      ]
    },
    {
      "cell_type": "markdown",
      "metadata": {
        "id": "Y6mNyOWDa3hZ"
      },
      "source": [
        "Esta es una operación de asignación, donde creamos una variable llamada `variable_ejemplo1` y le asignamos el valor 5. Observe que el final de esta sentencia simplemente está marcado por el final de la línea. Si queremos seguir en la siguiente línea tenemos dos opciones: utilizar el marcador `\\` para indicar un salto de línea"
      ]
    },
    {
      "cell_type": "code",
      "metadata": {
        "id": "cSzxsl77aOhH",
        "colab": {
          "base_uri": "https://localhost:8080/"
        },
        "outputId": "8acc0dcf-64a2-4cb7-a201-124132746972"
      },
      "source": [
        "x = 1 + 2 + 3\\\n",
        "+ 4 + 5 + 6\n",
        "print(x)"
      ],
      "execution_count": null,
      "outputs": [
        {
          "output_type": "stream",
          "text": [
            "21\n"
          ],
          "name": "stdout"
        }
      ]
    },
    {
      "cell_type": "markdown",
      "metadata": {
        "id": "Wls0Rpjwa61D"
      },
      "source": [
        "o incluir toda la expresión entre paréntesis:1"
      ]
    },
    {
      "cell_type": "code",
      "metadata": {
        "id": "m8YUmkPpa3vC",
        "colab": {
          "base_uri": "https://localhost:8080/"
        },
        "outputId": "a2e99d04-24cd-48f3-9976-4d96d905682a"
      },
      "source": [
        "y = (1 + 2 + 3 + \n",
        "     4 + 5 + 6)\n",
        "print(y)"
      ],
      "execution_count": null,
      "outputs": [
        {
          "output_type": "stream",
          "text": [
            "21\n"
          ],
          "name": "stdout"
        }
      ]
    },
    {
      "cell_type": "markdown",
      "metadata": {
        "id": "gFo1ByAJbA0o"
      },
      "source": [
        "A veces puede ser útil tener varias declaraciones en una sola línea. La siguiente parte del código es"
      ]
    },
    {
      "cell_type": "code",
      "metadata": {
        "id": "hUM3HSM_bBSr",
        "colab": {
          "base_uri": "https://localhost:8080/"
        },
        "outputId": "14f4d67d-b767-4452-b04b-d449595a4bc7"
      },
      "source": [
        "var1 = 3\n",
        "var2 = 4\n",
        "print(var1, var2) "
      ],
      "execution_count": null,
      "outputs": [
        {
          "output_type": "stream",
          "text": [
            "3 4\n"
          ],
          "name": "stdout"
        }
      ]
    },
    {
      "cell_type": "code",
      "metadata": {
        "id": "Pb96Q0RLDmAt",
        "colab": {
          "base_uri": "https://localhost:8080/"
        },
        "outputId": "2d7e42d3-cc27-49e8-932d-629d33ff487f"
      },
      "source": [
        "var1 , var2 = 8 , 9\n",
        "print(var1, var2)"
      ],
      "execution_count": null,
      "outputs": [
        {
          "output_type": "stream",
          "text": [
            "8 9\n"
          ],
          "name": "stdout"
        }
      ]
    },
    {
      "cell_type": "markdown",
      "metadata": {
        "id": "XCcDUKJ1bD2K"
      },
      "source": [
        "Con lo cual se ilustra que el punto y coma (`;`) puede terminar una sentencia. Lo anterior es completamente equivalente a"
      ]
    },
    {
      "cell_type": "code",
      "metadata": {
        "id": "USI9O5RtbF8q",
        "colab": {
          "base_uri": "https://localhost:8080/"
        },
        "outputId": "2fd5d336-88e6-452c-fe96-6de919e23ec4"
      },
      "source": [
        "var1 = 3.14 ; var2 = 2.71\n",
        "print(var1, var2)"
      ],
      "execution_count": null,
      "outputs": [
        {
          "output_type": "stream",
          "text": [
            "3.14 2.71\n"
          ],
          "name": "stdout"
        }
      ]
    },
    {
      "cell_type": "markdown",
      "metadata": {
        "id": "8KX6jTh-bHg6"
      },
      "source": [
        "**Indentación: ¡El espacio en blanco es importante!**\n",
        "\n",
        "Llegamos al bloque de código principal:"
      ]
    },
    {
      "cell_type": "code",
      "metadata": {
        "id": "zdLIbQ76bKAe",
        "colab": {
          "base_uri": "https://localhost:8080/"
        },
        "outputId": "a28f6290-c9b5-41ef-9e42-ff4ddba875e3"
      },
      "source": [
        "low = [] ; high = []\n",
        "mid = 5\n",
        "for i in range(10):\n",
        "  if i < mid:\n",
        "    low.append(i)\n",
        "\n",
        "  else:\n",
        "    high.append(i)\n",
        "\n",
        "print('números mayores o iguales que 5', high)\n",
        "print('números menores que  5', low)"
      ],
      "execution_count": null,
      "outputs": [
        {
          "output_type": "stream",
          "text": [
            "números mayores o iguales que 5 [5, 6, 7, 8, 9]\n",
            "números menores que  5 [0, 1, 2, 3, 4]\n"
          ],
          "name": "stdout"
        }
      ]
    },
    {
      "cell_type": "code",
      "metadata": {
        "id": "OFv4mzdiFDQN",
        "colab": {
          "base_uri": "https://localhost:8080/"
        },
        "outputId": "b39946c0-7185-480c-a358-66b9ae636043"
      },
      "source": [
        "for i in range(1, 8, 2):\n",
        "  print(i)"
      ],
      "execution_count": null,
      "outputs": [
        {
          "output_type": "stream",
          "text": [
            "1\n",
            "3\n",
            "5\n",
            "7\n"
          ],
          "name": "stdout"
        }
      ]
    },
    {
      "cell_type": "markdown",
      "metadata": {
        "id": "O3P-fIeYbUyw"
      },
      "source": [
        "En python, los bloques de código se denotan por la indentación"
      ]
    },
    {
      "cell_type": "markdown",
      "metadata": {
        "id": "dl82l4UubaDP"
      },
      "source": [
        "En Python, los bloques de código indentados siempre van precedidos de dos puntos (`:`) en la línea anterior. \n",
        "\n",
        "El uso de espacios en blanco por parte de Python a menudo es sorprendente para los programadores que están acostumbrados a otros lenguajes, pero en la práctica puede conducir a un código mucho más coherente y legible que los lenguajes que no imponen indentación para los bloques de código, aunque no siempre es el caso. "
      ]
    },
    {
      "cell_type": "markdown",
      "metadata": {
        "id": "qzUy5XmzbdO3"
      },
      "source": [
        "**El espacio en blanco dentro de las líneas no importa**\n",
        "\n",
        "Como vimos, el espacio en blanco es significativo para indicar un bloque de código. El espacio en blanco dentro de las líneas de código no importa. Por ejemplo, las siguientes tres expresiones son equivalentes:"
      ]
    },
    {
      "cell_type": "code",
      "metadata": {
        "id": "5-etl17PbaqB",
        "colab": {
          "base_uri": "https://localhost:8080/"
        },
        "outputId": "cf0412b0-a97d-413f-86b7-36775d0a7a9f"
      },
      "source": [
        "var3=17\n",
        "print(var3)"
      ],
      "execution_count": null,
      "outputs": [
        {
          "output_type": "stream",
          "text": [
            "17\n"
          ],
          "name": "stdout"
        }
      ]
    },
    {
      "cell_type": "code",
      "metadata": {
        "id": "qjtdgCk2f28h",
        "colab": {
          "base_uri": "https://localhost:8080/"
        },
        "outputId": "0dc9bf9a-d886-4b65-8c3d-c9bcbd58a833"
      },
      "source": [
        "var3          =     18\n",
        "print(       var3   )"
      ],
      "execution_count": null,
      "outputs": [
        {
          "output_type": "stream",
          "text": [
            "18\n"
          ],
          "name": "stdout"
        }
      ]
    },
    {
      "cell_type": "code",
      "metadata": {
        "id": "MJh-gOeSFVmU",
        "colab": {
          "base_uri": "https://localhost:8080/"
        },
        "outputId": "45da9061-d5af-443d-968f-2024311fa07a"
      },
      "source": [
        "var3 = 19\n",
        "print( var3 )"
      ],
      "execution_count": null,
      "outputs": [
        {
          "output_type": "stream",
          "text": [
            "19\n"
          ],
          "name": "stdout"
        }
      ]
    },
    {
      "cell_type": "markdown",
      "metadata": {
        "id": "zzzn9f1abmFt"
      },
      "source": [
        "Abusar de esta flexibilidad puede conducir a problemas en la lectura del código. El uso efectivo de espacios en blanco puede conducir a un código mucho más legible. \n"
      ]
    },
    {
      "cell_type": "markdown",
      "metadata": {
        "id": "J5WKXpGEbqaf"
      },
      "source": [
        "**Los paréntesis son para agrupar o llamar**\n",
        "\n",
        "Los paréntesis se usan, principalmente, para dos tareas. Primero, se pueden usar de la manera típica para agrupar enunciados u operaciones matemáticas:\n"
      ]
    },
    {
      "cell_type": "code",
      "metadata": {
        "id": "UKof1X2sbsS6",
        "colab": {
          "base_uri": "https://localhost:8080/"
        },
        "outputId": "d3a5804a-8489-4b3a-fcde-a88ccaf4e819"
      },
      "source": [
        "l1 = []\n",
        "l2 = [1 , 2 , 3]\n",
        "l1.append(l2)\n",
        "print(l1)"
      ],
      "execution_count": null,
      "outputs": [
        {
          "output_type": "stream",
          "text": [
            "[[1, 2, 3]]\n"
          ],
          "name": "stdout"
        }
      ]
    },
    {
      "cell_type": "markdown",
      "metadata": {
        "id": "FgRJnzSvbvBG"
      },
      "source": [
        "También se pueden usar para indicar que se está llamando a una función. En el siguiente fragmento, la función propia de Python `print()` se utiliza para mostrar el contenido de una variable. La llamada a la función se indica mediante un par de paréntesis de apertura y cierre, con los argumentos de la función contenidos en ellos."
      ]
    },
    {
      "cell_type": "code",
      "metadata": {
        "id": "xHuedlJvbv2_",
        "colab": {
          "base_uri": "https://localhost:8080/"
        },
        "outputId": "6e6b0968-8363-4f7c-dcf8-7edbaab12c5b"
      },
      "source": [
        "print('Este string es el argumento de print')"
      ],
      "execution_count": null,
      "outputs": [
        {
          "output_type": "stream",
          "text": [
            "Este string es el argumento de print\n"
          ],
          "name": "stdout"
        }
      ]
    },
    {
      "cell_type": "markdown",
      "metadata": {
        "id": "nAGX4Y7vb2d2"
      },
      "source": [
        "Algunas funciones (métodos) pueden invocarse sin ningún argumento, en cuyo caso los paréntesis de apertura y cierre deben usarse para indicar la evaluación de la función. Este es el caso del método sort() para una lista."
      ]
    },
    {
      "cell_type": "code",
      "metadata": {
        "id": "m7mZUKNAb4uO",
        "colab": {
          "base_uri": "https://localhost:8080/"
        },
        "outputId": "c69eeedc-fc33-4cfe-d1a7-89b756a53bf5"
      },
      "source": [
        "lista = [ 5 , 13 , 4 , 17 , 7 , 6]\n",
        "lista.sort()\n",
        "print(lista)"
      ],
      "execution_count": null,
      "outputs": [
        {
          "output_type": "stream",
          "text": [
            "[4, 5, 6, 7, 13, 17]\n"
          ],
          "name": "stdout"
        }
      ]
    },
    {
      "cell_type": "markdown",
      "metadata": {
        "id": "yjHIlqdDb8uO"
      },
      "source": [
        "<p><a name=\"sem\"></a></p>\n",
        "\n",
        "# **Semántica de Python**\n",
        "\n",
        "En esta sección comenzaremos a cubrir la semántica básica de Python. A diferencia de la sintaxis cubierta en la sección anterior, la semántica de un lenguaje implica el significado de las declaraciones. Al igual que con nuestra discusión sobre la sintaxis, aquí veremos algunas de las construcciones semánticas esenciales en Python para dar un mejor marco de referencia para comprender el código en las siguientes secciones\n",
        "\n",
        "[Concensos Python](https://www.python.org/dev/peps/pep-0008/)"
      ]
    },
    {
      "cell_type": "markdown",
      "metadata": {
        "id": "J6dGPVEmdoPR"
      },
      "source": [
        "<p><a name=\"var\"></a></p>\n",
        "\n",
        "## **Variables**\n",
        "\n",
        "Los nombres de las variables en Python pueden contener caracteres alfanuméricos *a-z*, *A-Z*, *0-9* y algunos caracteres especiales como _. Los nombres de las variables deben comenzar con una letra. Por convención, los nombres de las variables comienzan con letras minúsculas. Adicionalmente, existe un número de palabras claves que no pueden ser usadas como nombres de variables. Estas palabras claves son:\n",
        "\n",
        "> `and, as, assert, break, class, continue, def, del, elif, else, except, exec, finally, for, from, global, if, import, in, is, lambda, not, or, pass, print, raise, return, try, while, with, yield`\n",
        "\n",
        "En Python, las variables fundamentales son \n",
        "\n",
        "\n"
      ]
    },
    {
      "cell_type": "code",
      "metadata": {
        "id": "0GIiBkVEfMo2"
      },
      "source": [
        "# Tipo    # ejemplo     # Descripción\n",
        "int       x = 1         # integer: números enteros \n",
        "float     x = 3.1415    # floating point number: números de punto flotante (números reales)\n",
        "complex   x = 1 + 2j    # complex: números complejos (números con parte real e imaginaria)\n",
        "bool      x = True      # boolean: dos posibles valores: verdadero o falso (True o False)\n",
        "str       x = \"aeiou\"   # string: caracteres o texto\n",
        "None      x = None      # Objeto especial que indica valores nulos"
      ],
      "execution_count": null,
      "outputs": []
    },
    {
      "cell_type": "markdown",
      "metadata": {
        "id": "ZSf3Ug4PfR4C"
      },
      "source": [
        "Adicionalmente tenemos variables compuestas, las cuales se construyen a partir de estas variables fundamentales. Un ejemplo son las variables de tipo lista que vimos en la sección anterior y que estudiaremos más a fondo en las próximas sesiones.\n",
        "\n",
        "***(el número `j` es lo que en matemáticas se llama $i = \\sqrt{-1}$ )***\n",
        "\n",
        "Podemos acceder al tipo de variable utilizando la función nativa de Python `type`:"
      ]
    },
    {
      "cell_type": "code",
      "metadata": {
        "id": "dFIfsoX4mzg0",
        "colab": {
          "base_uri": "https://localhost:8080/"
        },
        "outputId": "51d75dd5-59f3-491c-9f5f-ddac058d672e"
      },
      "source": [
        "x = None\n",
        "y = None\n",
        "\n",
        "try:\n",
        "  print(x + y)\n",
        "except Exception as e:\n",
        "  print(e)\n",
        "\n",
        "print(\"Así se hace un manejo de errores\")"
      ],
      "execution_count": null,
      "outputs": [
        {
          "output_type": "stream",
          "text": [
            "unsupported operand type(s) for +: 'NoneType' and 'NoneType'\n",
            "Así se hace un manejo de errores\n"
          ],
          "name": "stdout"
        }
      ]
    },
    {
      "cell_type": "code",
      "metadata": {
        "id": "pA3cDi4LIskm",
        "colab": {
          "base_uri": "https://localhost:8080/"
        },
        "outputId": "85adba11-0078-4717-8b0b-b99acdbd6a1a"
      },
      "source": [
        "type(l1)"
      ],
      "execution_count": null,
      "outputs": [
        {
          "output_type": "execute_result",
          "data": {
            "text/plain": [
              "list"
            ]
          },
          "metadata": {
            "tags": []
          },
          "execution_count": 60
        }
      ]
    },
    {
      "cell_type": "code",
      "metadata": {
        "id": "ZOc-iZh4fYPf",
        "colab": {
          "base_uri": "https://localhost:8080/"
        },
        "outputId": "83301ec3-45d7-4dac-bdd4-d0ed6b51aa74"
      },
      "source": [
        "entero = 2000\n",
        "entero2 = 1999 + 1\n",
        "flotante = 2e3\n",
        "print(type(entero), type(flotante))\n",
        "print(f'La diferencia entre los dos valores {entero - flotante} que es un {type(entero - flotante)}')"
      ],
      "execution_count": null,
      "outputs": [
        {
          "output_type": "stream",
          "text": [
            "<class 'int'> <class 'float'>\n",
            "La diferencia entre los dos valores 0.0 que es un <class 'float'>\n"
          ],
          "name": "stdout"
        }
      ]
    },
    {
      "cell_type": "code",
      "metadata": {
        "id": "SS1pKsztJv1w",
        "colab": {
          "base_uri": "https://localhost:8080/"
        },
        "outputId": "a0fb21d7-5332-4f5b-d6a6-f7ba6aec33a2"
      },
      "source": [
        "entero == flotante"
      ],
      "execution_count": null,
      "outputs": [
        {
          "output_type": "execute_result",
          "data": {
            "text/plain": [
              "True"
            ]
          },
          "metadata": {
            "tags": []
          },
          "execution_count": 64
        }
      ]
    },
    {
      "cell_type": "code",
      "metadata": {
        "colab": {
          "base_uri": "https://localhost:8080/"
        },
        "id": "5dksX9Q8PA04",
        "outputId": "b156f786-3f5d-4c7d-d31f-65f174098c49"
      },
      "source": [
        "entero is entero2"
      ],
      "execution_count": null,
      "outputs": [
        {
          "output_type": "execute_result",
          "data": {
            "text/plain": [
              "False"
            ]
          },
          "metadata": {
            "tags": []
          },
          "execution_count": 67
        }
      ]
    },
    {
      "cell_type": "markdown",
      "metadata": {
        "id": "hG6G5sXxk6BI"
      },
      "source": [
        "Podemos utilizar las funciones nativas de Python que aparecen en la columna \"Tipo\" para realizar conversiones entre los diferentes tipos de variable:"
      ]
    },
    {
      "cell_type": "code",
      "metadata": {
        "id": "Md56ThmJlCbi",
        "colab": {
          "base_uri": "https://localhost:8080/"
        },
        "outputId": "010ffd5d-f16c-4392-9703-75584bbaa62a"
      },
      "source": [
        "j = 5\n",
        "z = 3 + 1j\n",
        "print(j , z , z * j, type(z))"
      ],
      "execution_count": null,
      "outputs": [
        {
          "output_type": "stream",
          "text": [
            "5 (3+1j) (15+5j) <class 'complex'>\n"
          ],
          "name": "stdout"
        }
      ]
    },
    {
      "cell_type": "markdown",
      "metadata": {
        "id": "mYS9RHXhl16k"
      },
      "source": [
        "### **Todo en Python es un objeto**\n",
        "\n",
        "Sin embargo, los tipos están vinculados no a los nombres de las variables sino a *los objetos mismos.* En lenguajes de programación orientados a objetos como Python, un objeto es una entidad que contiene datos junto con funcionalidades asociadas. \n",
        "\n",
        "Este concepto no se diferencia mucho del concepto de objeto en la vida real. Pensemos por ejemplo en un Robot: es un objeto con ciertas características (nombre, color, peso, etc) y ciertas funcionalidades (hablar, mover un brazo, mover una pierna, etc).\n",
        "\n",
        "\n",
        "En Python, todo es un objeto, lo que significa que cada entidad tiene algunas características (llamados atributos) y funcionalidades asociadas (llamados métodos). Veamos un ejemplo: creemos un objeto del tipo `complex`:"
      ]
    },
    {
      "cell_type": "code",
      "metadata": {
        "id": "iL9u_VvKl_8X"
      },
      "source": [
        "z = 4 + 2j"
      ],
      "execution_count": null,
      "outputs": []
    },
    {
      "cell_type": "markdown",
      "metadata": {
        "id": "dRNyFNoPl_tD"
      },
      "source": [
        "como ya se mencionó, este objeto tiene ciertos atributos (características) y métodos asociados (funcionalidades). Por ejemplo, los atributos `real` e `imag` contienen información de la parte real y la parte imaginaria del objeto. Para acceder a estos atributos utilizamos la sintáxis de punto `.` :"
      ]
    },
    {
      "cell_type": "code",
      "metadata": {
        "id": "4nbW6EtCmGp9",
        "colab": {
          "base_uri": "https://localhost:8080/"
        },
        "outputId": "2ed2cb1d-63ee-4b00-9fe5-7133253e5a53"
      },
      "source": [
        "r = z.real\n",
        "im = z.imag\n",
        "print(r, im)"
      ],
      "execution_count": null,
      "outputs": [
        {
          "output_type": "stream",
          "text": [
            "4.0 2.0\n"
          ],
          "name": "stdout"
        }
      ]
    },
    {
      "cell_type": "markdown",
      "metadata": {
        "id": "XSub_l4bmOVc"
      },
      "source": [
        "Los métodos son como atributos, excepto que son funciones que se pueden llamar utilizando un par de paréntesis de apertura y cierre. Por ejemplo, los objetos de tipo `float` tienen un método llamado `is_integer()` que verifica si el valor es un entero:"
      ]
    },
    {
      "cell_type": "code",
      "metadata": {
        "id": "gEx1Ir44mPX5",
        "colab": {
          "base_uri": "https://localhost:8080/"
        },
        "outputId": "2820905f-d172-434b-ec5d-71f1b79454f6"
      },
      "source": [
        "numero = 3.00 \n",
        "numero.is_integer()"
      ],
      "execution_count": null,
      "outputs": [
        {
          "output_type": "execute_result",
          "data": {
            "text/plain": [
              "True"
            ]
          },
          "metadata": {
            "tags": []
          },
          "execution_count": 73
        }
      ]
    },
    {
      "cell_type": "markdown",
      "metadata": {
        "id": "ReMmRTznmXEU"
      },
      "source": [
        "Cuando decimos que todo en Python es un objeto, realmente queremos decir que todo es un objeto, incluso los atributos y métodos de los objetos son en sí mismos objetos con su propia información de tipo"
      ]
    },
    {
      "cell_type": "markdown",
      "metadata": {
        "id": "U0xPS-N_oAtB"
      },
      "source": [
        "Para explorar los métodos y atributos de un objeto, podemos utilizar las funciones nativas de Python `dir` y `help` (o alternativamente, si ponemos un punto `.` luego del objeto se desplegará una lista con los métodos y atributos del objeto)\n",
        "\n",
        "También podemos poner  un `?` al final de un método para leer algo de documentación sobre este"
      ]
    },
    {
      "cell_type": "code",
      "metadata": {
        "id": "BmS01le_oYXz"
      },
      "source": [
        "dir(str)"
      ],
      "execution_count": null,
      "outputs": []
    },
    {
      "cell_type": "code",
      "metadata": {
        "id": "S3wHeXirof78"
      },
      "source": [
        "help(str)"
      ],
      "execution_count": null,
      "outputs": []
    },
    {
      "cell_type": "code",
      "metadata": {
        "id": "l8rvg7winuG0",
        "colab": {
          "base_uri": "https://localhost:8080/",
          "height": 35
        },
        "outputId": "394e2a4c-882f-4eda-dc1f-d59d406098e7"
      },
      "source": [
        "nombre = 'tomas'\n",
        "nombre.upper()"
      ],
      "execution_count": null,
      "outputs": [
        {
          "output_type": "execute_result",
          "data": {
            "application/vnd.google.colaboratory.intrinsic+json": {
              "type": "string"
            },
            "text/plain": [
              "'TOMAS'"
            ]
          },
          "metadata": {
            "tags": []
          },
          "execution_count": 78
        }
      ]
    },
    {
      "cell_type": "code",
      "metadata": {
        "id": "_ihqmgLuQX8e"
      },
      "source": [
        "str?"
      ],
      "execution_count": null,
      "outputs": []
    },
    {
      "cell_type": "markdown",
      "metadata": {
        "id": "6X3FAL_tfLer"
      },
      "source": [
        "### **Las variables de Python son punteros**\n",
        "\n",
        "\n",
        "\n",
        "Como ya vimos, asignar variables en Python es tan fácil como poner un nombre de variable a la izquierda del signo igual `=`:"
      ]
    },
    {
      "cell_type": "markdown",
      "metadata": {
        "id": "KQwjkuC2uf4e"
      },
      "source": [
        "Esto puede parecer sencillo, pero si se tiene el modelo mental equivocado de lo que hace esta operación, la forma en que funciona Python puede parecer confusa.\n",
        "\n",
        "En muchos lenguajes de programación, las variables se consideran como contenedores en los que se colocan datos."
      ]
    },
    {
      "cell_type": "markdown",
      "metadata": {
        "id": "U1WByWRcu_eg"
      },
      "source": [
        "Esencialmente, se está definiendo un \"depósito de memoria\" con un tipo definido (int) llamado `x`, y colocando el valor `2337` en él. Gráficamente, podemos representar esto de la siguiente manera:\n",
        "\n",
        "![variables in C](https://i.imgur.com/0RQOTQ0.png)\n",
        "\n"
      ]
    },
    {
      "cell_type": "markdown",
      "metadata": {
        "id": "TaZyzDAvvYQW"
      },
      "source": [
        "En Python, por el contrario, las variables se consideran no como contenedores sino como *punteros*. \n",
        "\n",
        "Un puntero es un objeto cuyo valor *apunta* a otro valor almacenado en otra parte de la memoria del ordenador utilizando su dirección. En pocas palabras, un puntero hace referencia a una ubicación en memoria. Por lo tanto, cuando escribimos en Python"
      ]
    },
    {
      "cell_type": "code",
      "metadata": {
        "id": "Mky7EBCVvb2n"
      },
      "source": [
        "#Código en python\n",
        "x = 2337"
      ],
      "execution_count": null,
      "outputs": []
    },
    {
      "cell_type": "markdown",
      "metadata": {
        "id": "L6-ygfvEv0QJ"
      },
      "source": [
        "básicamente se está definiendo un puntero llamado `x` que apunta a algún otro depósito de memoria que contiene el valor 2337. Como consecuencia, debido a que las variables de Python apuntan a varios *objetos*, no hay necesidad de \"declarar\" la variable (como sí se hace en el caso de C, donde para utilizar una variable se debe declarar previamente tanto su tipo como su valor), ¡o incluso requerir que la variable siempre apunte a información del mismo tipo! Este es el sentido en el que se dice que Python es de *tipado dinámico*: los nombres de las variables pueden apuntar a objetos de cualquier tipo.\n",
        "\n",
        "![](https://i.imgur.com/F3IQqwE.png)"
      ]
    },
    {
      "cell_type": "markdown",
      "metadata": {
        "id": "AHvjAQx_wKgL"
      },
      "source": [
        "Hay una consecuencia de este enfoque de \"variable como puntero\" que se debe tener en cuenta. Cada objeto en Python contiene al menos tres datos, como vimos en la figura anterior:\n",
        "\n",
        "* Tipo\n",
        "* Valor\n",
        "* Conteo de referencia\n",
        "\n",
        "Sin embargo, no todos los objetos son iguales. Hay otra distinción importante que debemos tener en cuenta: objetos inmutables vs objetos mutables.\n",
        "\n",
        "* **Objeto inmutable**: No puede ser cambiado.\n",
        "* **Objeto mutable**: Puede ser cambiado.\n",
        "\n",
        "Por ejemplo, todas las variables fundamentales que vimos son objetos inmutables. Variables compuestas como las listas o los diccionarios son objetos mutables.\n",
        "\n",
        "Veamos cómo esto afecta la declaración de variables. Para aclarar estos conceptos, realicemos un paralelo entre las variables en C y las variables en Python.\n",
        "\n",
        "Volvamos a la variable en C que definimos anteriormente:"
      ]
    },
    {
      "cell_type": "code",
      "metadata": {
        "id": "4c2bcc33xNLY"
      },
      "source": [
        "# codigo en C\n",
        "int x = 2337 ;"
      ],
      "execution_count": null,
      "outputs": []
    },
    {
      "cell_type": "markdown",
      "metadata": {
        "id": "FgTiFsObxR0R"
      },
      "source": [
        "Cuando se ejecuta esta línea se hace lo siguiente:\n",
        "\n",
        "* Alojar la memoria necesaria para un entero\n",
        "* Asignar el valor 2337 en esa dirección de memoria\n",
        "* Indicar que x apunta a ese valor\n",
        "\n",
        "![variables in C](https://i.imgur.com/0RQOTQ0.png)"
      ]
    },
    {
      "cell_type": "markdown",
      "metadata": {
        "id": "5AfMTdO3xTek"
      },
      "source": [
        "Si luego en el programa quisieramos modificar el valor de `x`, podríamos escribir los siguiente"
      ]
    },
    {
      "cell_type": "code",
      "metadata": {
        "id": "rXyZcv4FyA0S"
      },
      "source": [
        "# codigo en C\n",
        "x = 2338"
      ],
      "execution_count": null,
      "outputs": []
    },
    {
      "cell_type": "markdown",
      "metadata": {
        "id": "DnCjCuGoyG_a"
      },
      "source": [
        "El código anterior asigna un nuevo valor (2338) a la variable `x`, sobrescribiendo así el valor anterior. Esto significa que la variable `x` es *mutable*\n",
        "\n",
        "![](https://i.imgur.com/aeLoUM5.png)\n",
        "\n",
        "Observe que la ubicación de `x` no cambió, solo el valor en sí. Significa que `x` es la ubicación de la memoria, no solo un nombre para ella. Si quisieramos crear otra variable `y`, a partir de `x`, podríamos escribir:\n",
        "\n"
      ]
    },
    {
      "cell_type": "code",
      "metadata": {
        "id": "4RZxbxDbyyl8"
      },
      "source": [
        "# codigo en C\n",
        "int y = x;"
      ],
      "execution_count": null,
      "outputs": []
    },
    {
      "cell_type": "markdown",
      "metadata": {
        "id": "iOb8ivUay3fK"
      },
      "source": [
        "Este código crea un nuevo \"cuadro\" llamado `y` y copia el valor de `x` en el cuadro\n",
        "\n",
        "![](https://i.imgur.com/evHZpub.png)\n"
      ]
    },
    {
      "cell_type": "markdown",
      "metadata": {
        "id": "9vBuVNcVzGkg"
      },
      "source": [
        "Observe la nueva ubicación 0x7f5 de `y`. Aunque el valor de `x` se copió a `y`, la variable `y` posee una nueva dirección en memoria. Por lo tanto, podríamos sobrescribir el valor de `y` sin afectar a `x`\n"
      ]
    },
    {
      "cell_type": "code",
      "metadata": {
        "id": "FdwxfDH8zWUI"
      },
      "source": [
        "# codigo en C\n",
        "y = 2339;"
      ],
      "execution_count": null,
      "outputs": []
    },
    {
      "cell_type": "markdown",
      "metadata": {
        "id": "ivP8HDRfza-l"
      },
      "source": [
        "En memoria esto se vería como\n",
        "\n",
        "![](https://i.imgur.com/5XJhHyZ.png)\n",
        "\n",
        "Note que se ha modificado el valor en `y`, pero no su ubicación. Además, no ha afectado la variable `x` original en absoluto.\n",
        "\n",
        "Este comportamiento es muy diferente al que encontramos en Python. Veamos ahora estas mismas operaciones en Python. Para mirar de forma explícita la dirección en memoria, podemos utilizar la función propia de Python `id` para acceder a la dirección en memoria de la variable.\n"
      ]
    },
    {
      "cell_type": "code",
      "metadata": {
        "id": "qAlkZANUz6lx",
        "colab": {
          "base_uri": "https://localhost:8080/"
        },
        "outputId": "c93c15d2-2ef4-4248-9ce7-87ea1435f91d"
      },
      "source": [
        "id(x)"
      ],
      "execution_count": null,
      "outputs": [
        {
          "output_type": "execute_result",
          "data": {
            "text/plain": [
              "139915284024944"
            ]
          },
          "metadata": {
            "tags": []
          },
          "execution_count": 81
        }
      ]
    },
    {
      "cell_type": "markdown",
      "metadata": {
        "id": "AiaQwJO30Gid"
      },
      "source": [
        "Cuando ejecutamos esta línea, se hace lo siguiente:\n",
        "\n",
        "* Crear un PyObject (No es un objeto como tal, representa la estructura base para todos los objetos de Python)\n",
        "* Asignar el tipo de variable para el PyObject \n",
        "* Asignar el valor 2337 al PyObject \n",
        "* Crear un nombre `x` \n",
        "* Hacer que `x` apunte al nuevo PyObject \n",
        "* Incrementar el conteo de referencia del PyObject en 1 \n",
        "\n",
        "![](https://i.imgur.com/F3IQqwE.png)\n",
        "\n",
        "Note la diferencia respecto a lo que encontrabamos en C. Si quisieramos asignar un nuevo valor a la variable `x` podríamos escribir:"
      ]
    },
    {
      "cell_type": "code",
      "metadata": {
        "id": "CpEGOD6RRNiO",
        "colab": {
          "base_uri": "https://localhost:8080/"
        },
        "outputId": "f0e263db-649e-4c22-dc5f-7c7b887453ce"
      },
      "source": [
        "print(x, id(x))"
      ],
      "execution_count": null,
      "outputs": [
        {
          "output_type": "stream",
          "text": [
            "2337 139915284024944\n"
          ],
          "name": "stdout"
        }
      ]
    },
    {
      "cell_type": "code",
      "metadata": {
        "id": "stQRc6sH1Plf",
        "colab": {
          "base_uri": "https://localhost:8080/"
        },
        "outputId": "23834e05-1928-4978-f7ed-07a64ef77bdf"
      },
      "source": [
        "x = 2338\n",
        "print(x, id(x))"
      ],
      "execution_count": null,
      "outputs": [
        {
          "output_type": "stream",
          "text": [
            "2338 139915284021488\n"
          ],
          "name": "stdout"
        }
      ]
    },
    {
      "cell_type": "markdown",
      "metadata": {
        "id": "vuB7v49-1cJH"
      },
      "source": [
        "En este caso lo que se hace es:\n",
        "\n",
        "* Crear un PyObject \n",
        "* Asignar el tipo de variable para el PyObject \n",
        "* Asignar el valor 2237 al PyObject \n",
        "* Crear un nombre `x` \n",
        "* Hacer que `x` apunte al nuevo PyObject \n",
        "* Incrementar el conteo de referencia del nuevo PyObject en 1 \n",
        "* Reducir el conteo de referencia del viejo PyObject en 1 \n",
        "\n",
        "![](https://i.imgur.com/QDXLdoa.png)\n",
        "\n",
        "Este diagrama ilustra que `x` apunta a una referencia a un objeto y no posee el espacio de memoria como tal. También muestra que el comando `x = 2338` no es una asignación, sino que vincula el nombre `x` a una referencia.\n",
        "\n",
        "Podríamos introducir un nuevo nombre, `y`, como en el ejemplo de C:\n",
        "\n"
      ]
    },
    {
      "cell_type": "code",
      "metadata": {
        "id": "R3EnYpAR2L0L",
        "colab": {
          "base_uri": "https://localhost:8080/"
        },
        "outputId": "8909b0a2-b8b6-4c14-93a4-a842b135f321"
      },
      "source": [
        "y = x\n",
        "print(y, id(x), id(y), id(x)- id(y))"
      ],
      "execution_count": null,
      "outputs": [
        {
          "output_type": "stream",
          "text": [
            "2338 139915284021488 139915284021488 0\n"
          ],
          "name": "stdout"
        }
      ]
    },
    {
      "cell_type": "markdown",
      "metadata": {
        "id": "XErmTQq_2z4D"
      },
      "source": [
        "En memoria tendremos un nuevo nombre, pero no necesariamente un nuevo objeto:\n",
        "\n",
        "![](https://i.imgur.com/jrPj3n9.png)\n",
        "\n",
        "Podemos verificar la igualdad de identidad de los objetos para confirmar que son iguales:\n",
        "\n",
        "\n"
      ]
    },
    {
      "cell_type": "markdown",
      "metadata": {
        "id": "QHo2Tzzm3nHR"
      },
      "source": [
        "Podemos ver que no se ha creado un nuevo objeto, solo un nuevo nombre que apunta al mismo objeto. Además, el conteo de referencia del objeto ha aumentado en uno. \n",
        "\n",
        "Hay que tener en cuenta que `y`, siendo una variable de tipo entero, sigue siendo inmutable: Si modificamos su valor se crea un nuevo objeto:"
      ]
    },
    {
      "cell_type": "code",
      "metadata": {
        "id": "YhVjwgqP3-Ye",
        "colab": {
          "base_uri": "https://localhost:8080/"
        },
        "outputId": "3452f1f6-fe75-40b0-96f9-83dd1fae9e56"
      },
      "source": [
        "y = x + 1\n",
        "\n",
        "print( x, y , id(x), id(y))"
      ],
      "execution_count": null,
      "outputs": [
        {
          "output_type": "stream",
          "text": [
            "2338 2339 139915284021488 139915284024752\n"
          ],
          "name": "stdout"
        }
      ]
    },
    {
      "cell_type": "markdown",
      "metadata": {
        "id": "u7AKJdlN4E1g"
      },
      "source": [
        "en memoria veríamos esto como: \n",
        "\n",
        "![](https://i.imgur.com/LhSikZI.png)"
      ]
    },
    {
      "cell_type": "markdown",
      "metadata": {
        "id": "p9JsBg1R4icy"
      },
      "source": [
        "Hay una consecuencia de este enfoque de \"variable como puntero\" que se debe tener en cuenta. Si tenemos dos nombres de variables que apuntan al mismo objeto mutable, ¡cambiar uno también cambiará al otro! Veamos:"
      ]
    },
    {
      "cell_type": "code",
      "metadata": {
        "id": "MhyrvFGp4qlI",
        "colab": {
          "base_uri": "https://localhost:8080/"
        },
        "outputId": "dba6ff5b-79a0-423a-a793-9b525ce2d00d"
      },
      "source": [
        "a = 1\n",
        "b = a\n",
        "print(a, b, id(a), id(b), id(a)- id(b))"
      ],
      "execution_count": null,
      "outputs": [
        {
          "output_type": "stream",
          "text": [
            "1 1 94124123621888 94124123621888 0\n"
          ],
          "name": "stdout"
        }
      ]
    },
    {
      "cell_type": "code",
      "metadata": {
        "colab": {
          "base_uri": "https://localhost:8080/"
        },
        "id": "dgWzOYztURMN",
        "outputId": "3b72e575-de94-4447-ff3f-d5fa025013f3"
      },
      "source": [
        "b = 17\n",
        "print(a, b, id(a), id(b), id(a)- id(b))"
      ],
      "execution_count": null,
      "outputs": [
        {
          "output_type": "stream",
          "text": [
            "1 17 94124123621888 94124123622400 -512\n"
          ],
          "name": "stdout"
        }
      ]
    },
    {
      "cell_type": "markdown",
      "metadata": {
        "id": "0rnZaogC42lZ"
      },
      "source": [
        "Hemos creado dos variables `l1` y `l2`, ambas apuntando al mismo objeto. Debido a esto, si modificamos la lista a través de uno de sus nombres, debido a que la listas son objetos mutables, ambas se modificarán, por ejemplo agreguemos un item a l2:"
      ]
    },
    {
      "cell_type": "code",
      "metadata": {
        "id": "SP5jrXjf5PR0",
        "colab": {
          "base_uri": "https://localhost:8080/"
        },
        "outputId": "294631c4-94a3-49eb-8948-6139effc360e"
      },
      "source": [
        "l1 = [1, 2, 3]\n",
        "l2 = l1\n",
        "print(id(l1), id(l2), id(l1)-id(l2))"
      ],
      "execution_count": null,
      "outputs": [
        {
          "output_type": "stream",
          "text": [
            "139915284043968 139915284043968 0\n"
          ],
          "name": "stdout"
        }
      ]
    },
    {
      "cell_type": "markdown",
      "metadata": {
        "id": "NguaS6jk52qa"
      },
      "source": [
        "Este comportamiento puede parecer confuso si se piensa erróneamente que las variables son depositos que contienen datos. Pero si se piensa correctamente en las variables como punteros a objetos, y se tiene en cuenta el concepto de mutabilidad, entonces este comportamiento tiene sentido.\n",
        "\n",
        "\n"
      ]
    },
    {
      "cell_type": "code",
      "metadata": {
        "id": "RY59zUZv65ZW",
        "colab": {
          "base_uri": "https://localhost:8080/"
        },
        "outputId": "13d41ef2-a07a-4e13-a43c-1f1ee6bb6513"
      },
      "source": [
        "l2[1] = 17\n",
        "print(l2)\n",
        "print(l1)"
      ],
      "execution_count": null,
      "outputs": [
        {
          "output_type": "stream",
          "text": [
            "[1, 17, 3]\n",
            "[1, 17, 3]\n"
          ],
          "name": "stdout"
        }
      ]
    },
    {
      "cell_type": "code",
      "metadata": {
        "id": "30ozltbJSjrN",
        "colab": {
          "base_uri": "https://localhost:8080/"
        },
        "outputId": "6a49f8e5-d4be-4947-ed8d-d22c38b11c16"
      },
      "source": [
        "l3 = l1.copy()\n",
        "print(id(l3), id(l1))\n",
        "print(l3)\n",
        "l3[0] = 1743\n",
        "print(l3, l1)"
      ],
      "execution_count": null,
      "outputs": [
        {
          "output_type": "stream",
          "text": [
            "139915284190944 139915284043968\n",
            "[1, 17, 3]\n",
            "[1743, 17, 3] [1, 17, 3]\n"
          ],
          "name": "stdout"
        }
      ]
    },
    {
      "cell_type": "markdown",
      "metadata": {
        "id": "59zMGQME64uN"
      },
      "source": [
        "Debemos tener mucho cuidado cuando trabajemos con objetos mutables. Si quisieramos crear un nuevo objeto mutable a partir de otro, pero no queremos que estos apunten al mismo objeto (de manera que al modificar esto no afecte al otro), podemos crear el nuevo objeto como una copia del anterior, utilizando el método `copy` de los objetos tipo lista:"
      ]
    },
    {
      "cell_type": "markdown",
      "metadata": {
        "id": "4cEKofEn6qOa"
      },
      "source": [
        "Note que de esta manera ahora ambas variables apuntan a objetos diferentes."
      ]
    },
    {
      "cell_type": "markdown",
      "metadata": {
        "id": "bBvJUcSZnunp"
      },
      "source": [
        "<p><a name=\"ope\"></a></p>\n",
        "\n",
        "# **Operadores**\n",
        "\n",
        "En la sección anterior, comenzamos a observar la semántica de las variables y objetos de Python; aquí profundizaremos en la semántica de los distintos operadores incluidos en el lenguaje\n",
        "\n"
      ]
    },
    {
      "cell_type": "markdown",
      "metadata": {
        "id": "Fm55Als973hf"
      },
      "source": [
        "<p><a name=\"opa\"></a></p>\n",
        "\n",
        "### **Operadores aritméticos**\n",
        "\n",
        "\n",
        "Python implementa siete operadores aritméticos binarios básicos, dos de los cuales (+ y -) pueden funcionar como operadores unarios\n",
        "\n"
      ]
    },
    {
      "cell_type": "code",
      "metadata": {
        "id": "FKRcfFX7JgRg"
      },
      "source": [
        "a = 42\n",
        "b = 5"
      ],
      "execution_count": null,
      "outputs": []
    },
    {
      "cell_type": "code",
      "metadata": {
        "id": "3cCkrIu98PNi",
        "colab": {
          "base_uri": "https://localhost:8080/"
        },
        "outputId": "8766fb49-c068-46aa-be1f-3516f7e9bc6b"
      },
      "source": [
        "print(a + b)   # suma\n",
        "print(a - b)   # resta\n",
        "print(a * b)   # multiplicacion\n",
        "print(a / b)   # division"
      ],
      "execution_count": null,
      "outputs": [
        {
          "output_type": "stream",
          "text": [
            "47\n",
            "37\n",
            "210\n",
            "8.4\n"
          ],
          "name": "stdout"
        }
      ]
    },
    {
      "cell_type": "markdown",
      "metadata": {
        "id": "DOYv4RNg8Oc3"
      },
      "source": [
        "Estos operadores se pueden usar y combinar de manera intuitiva, usando paréntesis estándar para agrupar operaciones:"
      ]
    },
    {
      "cell_type": "code",
      "metadata": {
        "id": "MU9kIIVjT0ZC",
        "colab": {
          "base_uri": "https://localhost:8080/"
        },
        "outputId": "84d27855-b244-49c3-9124-6699f045bfb8"
      },
      "source": [
        "a // b  # division entera"
      ],
      "execution_count": null,
      "outputs": [
        {
          "output_type": "execute_result",
          "data": {
            "text/plain": [
              "8"
            ]
          },
          "metadata": {
            "tags": []
          },
          "execution_count": 101
        }
      ]
    },
    {
      "cell_type": "code",
      "metadata": {
        "id": "J5R4hmjMT0I5",
        "colab": {
          "base_uri": "https://localhost:8080/"
        },
        "outputId": "8a25817e-43c4-4d03-928d-d47bd0f8674d"
      },
      "source": [
        "a % b   # modulo\n"
      ],
      "execution_count": null,
      "outputs": [
        {
          "output_type": "execute_result",
          "data": {
            "text/plain": [
              "2"
            ]
          },
          "metadata": {
            "tags": []
          },
          "execution_count": 102
        }
      ]
    },
    {
      "cell_type": "code",
      "metadata": {
        "id": "P8GSDfK5wXe_",
        "colab": {
          "base_uri": "https://localhost:8080/"
        },
        "outputId": "09ad65ac-4f8d-433b-8273-6de8225597d6"
      },
      "source": [
        "a ** b  # exponenciacion"
      ],
      "execution_count": null,
      "outputs": [
        {
          "output_type": "execute_result",
          "data": {
            "text/plain": [
              "130691232"
            ]
          },
          "metadata": {
            "tags": []
          },
          "execution_count": 103
        }
      ]
    },
    {
      "cell_type": "code",
      "metadata": {
        "colab": {
          "base_uri": "https://localhost:8080/"
        },
        "id": "aMUXh5OlV57J",
        "outputId": "23aa859b-281c-4574-ef54-20a61d417d66"
      },
      "source": [
        "print(-a)      # unario negativo (negacion)\n",
        "print(+a)      # unario positivo (sin cambio)"
      ],
      "execution_count": null,
      "outputs": [
        {
          "output_type": "stream",
          "text": [
            "-42\n",
            "42\n"
          ],
          "name": "stdout"
        }
      ]
    },
    {
      "cell_type": "markdown",
      "metadata": {
        "id": "zhyx9Ly1v5QA"
      },
      "source": [
        "Hemos visto que las variables se pueden asignar con el operador `=`. Por ejemplo:"
      ]
    },
    {
      "cell_type": "code",
      "metadata": {
        "id": "2tfpBgUjv8qx",
        "colab": {
          "base_uri": "https://localhost:8080/"
        },
        "outputId": "0bae9cbe-4eeb-4f8d-f50b-3bac1231fbdb"
      },
      "source": [
        "a += 1\n",
        "print(a) "
      ],
      "execution_count": null,
      "outputs": [
        {
          "output_type": "stream",
          "text": [
            "43\n"
          ],
          "name": "stdout"
        }
      ]
    },
    {
      "cell_type": "code",
      "metadata": {
        "id": "E077-iDzEaef",
        "colab": {
          "base_uri": "https://localhost:8080/"
        },
        "outputId": "71a0be8b-02b7-4bac-ed7d-96db37a58e6a"
      },
      "source": [
        "a -= 20\n",
        "print(a)"
      ],
      "execution_count": null,
      "outputs": [
        {
          "output_type": "stream",
          "text": [
            "23\n"
          ],
          "name": "stdout"
        }
      ]
    },
    {
      "cell_type": "code",
      "metadata": {
        "id": "4SwIh7HuUefi",
        "colab": {
          "base_uri": "https://localhost:8080/"
        },
        "outputId": "f908ba92-e38f-4c2a-9752-e433dfedbc4f"
      },
      "source": [
        "a *= 3\n",
        "print(a)"
      ],
      "execution_count": null,
      "outputs": [
        {
          "output_type": "stream",
          "text": [
            "69\n"
          ],
          "name": "stdout"
        }
      ]
    },
    {
      "cell_type": "code",
      "metadata": {
        "id": "T98MR9frUhFw",
        "colab": {
          "base_uri": "https://localhost:8080/"
        },
        "outputId": "d7bd5166-a430-4056-b98d-65a7d6edbcb3"
      },
      "source": [
        "a /= 23\n",
        "print(a)"
      ],
      "execution_count": null,
      "outputs": [
        {
          "output_type": "stream",
          "text": [
            "3.0\n"
          ],
          "name": "stdout"
        }
      ]
    },
    {
      "cell_type": "markdown",
      "metadata": {
        "id": "4Lf-N2mdwKGZ"
      },
      "source": [
        "Es posible que queramos actualizar la variable `x` con este nuevo valor. En este caso, podríamos combinar la suma y la asignación y escribir `x = x + 2`. Debido a que este tipo de operación y asignación combinadas es tan común, Python incluye operadores de actualización integrados para todas las operaciones aritméticas:"
      ]
    },
    {
      "cell_type": "markdown",
      "metadata": {
        "id": "V1mJfqIIw12y"
      },
      "source": [
        "Este tipo de abreviaciones funcionan con las siguientes operaciones: \n",
        "\n",
        "`+= -= /= *=`"
      ]
    },
    {
      "cell_type": "markdown",
      "metadata": {
        "id": "5Nqe-prAxNYN"
      },
      "source": [
        "<p><a name=\"opc\"></a></p>\n",
        "\n",
        "### **Operadores de comparación**\n",
        "\n",
        "Otro tipo de operación que puede ser muy útil es la comparación de diferentes valores. Para esto, Python implementa operadores de comparación estándar, que devuelven valores booleanos `True` y `False`.\n",
        "\n"
      ]
    },
    {
      "cell_type": "code",
      "metadata": {
        "id": "J68FjBvb8to8",
        "colab": {
          "base_uri": "https://localhost:8080/"
        },
        "outputId": "92777a69-79b7-4d19-f8e9-d763ce656bed"
      },
      "source": [
        "print(a == b)    #a igual a b\n",
        "print(a != b)    #a diferente de b\n",
        "print(a < b)     #a menor a b\n",
        "print(a > b)     #a mayor a b\n",
        "print(a <= b)    #a menor igual a b\n",
        "print(a >= b)    #a mayor igual a b"
      ],
      "execution_count": null,
      "outputs": [
        {
          "output_type": "stream",
          "text": [
            "False\n",
            "True\n",
            "True\n",
            "False\n",
            "True\n",
            "False\n"
          ],
          "name": "stdout"
        }
      ]
    },
    {
      "cell_type": "markdown",
      "metadata": {
        "id": "_cHrhnQs8t8g"
      },
      "source": [
        "Estos operadores de comparación se pueden combinar con los operadores aritméticos para expresar un rango prácticamente ilimitado de pruebas para los números"
      ]
    },
    {
      "cell_type": "markdown",
      "metadata": {
        "id": "F4Dw5QQfxacE"
      },
      "source": [
        "Podemos unir varias comparaciones para verificar relaciones más complicadas:\n"
      ]
    },
    {
      "cell_type": "code",
      "metadata": {
        "id": "wYV9AY-xxWke",
        "colab": {
          "base_uri": "https://localhost:8080/"
        },
        "outputId": "c5a776fa-ff46-4fbb-e228-adeaf3dde393"
      },
      "source": [
        "1 < b <= 105"
      ],
      "execution_count": null,
      "outputs": [
        {
          "output_type": "execute_result",
          "data": {
            "text/plain": [
              "True"
            ]
          },
          "metadata": {
            "tags": []
          },
          "execution_count": 110
        }
      ]
    },
    {
      "cell_type": "markdown",
      "metadata": {
        "id": "inzYYWBZxr8Q"
      },
      "source": [
        "<p><a name=\"opb\"></a></p>\n",
        "\n",
        "### **Operaciones booleanas**\n",
        "\n",
        "Al trabajar con valores booleanos, Python proporciona operadores para combinar los valores utilizando los conceptos estándar de \"and\", \"or\" y \"not\". Como es de esperarse, estos operadores se expresan usando las palabras `and`, `or`, y `not`:\n",
        "\n",
        "`and`: Este operador da como resultado True si y sólo si sus dos operandos son True:"
      ]
    },
    {
      "cell_type": "code",
      "metadata": {
        "id": "iik4P6RYxtyY",
        "colab": {
          "base_uri": "https://localhost:8080/"
        },
        "outputId": "86ea2fea-5e75-4570-b887-ef7150fecb8a"
      },
      "source": [
        "var1 = True\n",
        "var2 = False\n",
        "var1 and var2"
      ],
      "execution_count": null,
      "outputs": [
        {
          "output_type": "execute_result",
          "data": {
            "text/plain": [
              "False"
            ]
          },
          "metadata": {
            "tags": []
          },
          "execution_count": 111
        }
      ]
    },
    {
      "cell_type": "markdown",
      "metadata": {
        "id": "ewGTR_dnx6fx"
      },
      "source": [
        "`or`: Este operador da como resultado True si algún operando es True:"
      ]
    },
    {
      "cell_type": "code",
      "metadata": {
        "id": "tsGz0pesx7Cj",
        "colab": {
          "base_uri": "https://localhost:8080/"
        },
        "outputId": "399cb2ce-0014-481b-93c0-38e3d86788e0"
      },
      "source": [
        "var1 or var2"
      ],
      "execution_count": null,
      "outputs": [
        {
          "output_type": "execute_result",
          "data": {
            "text/plain": [
              "True"
            ]
          },
          "metadata": {
            "tags": []
          },
          "execution_count": 112
        }
      ]
    },
    {
      "cell_type": "markdown",
      "metadata": {
        "id": "z6pBjdJTx94J"
      },
      "source": [
        "`not`: Este operador da como resultado True si y sólo si su argumento es False:"
      ]
    },
    {
      "cell_type": "code",
      "metadata": {
        "id": "ZYrn3no6x-ar",
        "colab": {
          "base_uri": "https://localhost:8080/"
        },
        "outputId": "47658149-8878-4a16-fbb3-56ffad400795"
      },
      "source": [
        "not var1"
      ],
      "execution_count": null,
      "outputs": [
        {
          "output_type": "execute_result",
          "data": {
            "text/plain": [
              "False"
            ]
          },
          "metadata": {
            "tags": []
          },
          "execution_count": 113
        }
      ]
    },
    {
      "cell_type": "markdown",
      "metadata": {
        "id": "UUB92XSVykIS"
      },
      "source": [
        "Este tipo de operaciones booleanas se volverán extremadamente útiles cuando comencemos a discutir las declaraciones de flujo de control, como los condicionales y los ciclos."
      ]
    },
    {
      "cell_type": "markdown",
      "metadata": {
        "id": "TSxpZ0t8ym3i"
      },
      "source": [
        "<p><a name=\"opm\"></a></p>\n",
        "\n",
        "###  **Operadores de identidad y membresía**\n",
        "\n",
        "Python también contiene operadores para verificar *identidad* y *membresía*."
      ]
    },
    {
      "cell_type": "code",
      "metadata": {
        "id": "9AbuHx1Oyo3h"
      },
      "source": [
        "a is b      # a es b\n",
        "a is not b  # a no es en b\n",
        "a in b      # a está en b\n",
        "a not in b  # a no está en b"
      ],
      "execution_count": null,
      "outputs": []
    },
    {
      "cell_type": "markdown",
      "metadata": {
        "id": "cwY6psKIy59Q"
      },
      "source": [
        "Los operadores de identidad, `is` e `is not`, verifican la identidad del objeto. La identidad del objeto es diferente a la igualdad, como podemos ver aquí:"
      ]
    },
    {
      "cell_type": "code",
      "metadata": {
        "colab": {
          "base_uri": "https://localhost:8080/"
        },
        "id": "s2eAm70eXyq4",
        "outputId": "c5b831b5-c99f-4358-d9cd-55da095ba5c8"
      },
      "source": [
        "x == y"
      ],
      "execution_count": null,
      "outputs": [
        {
          "output_type": "execute_result",
          "data": {
            "text/plain": [
              "True"
            ]
          },
          "metadata": {
            "tags": []
          },
          "execution_count": 115
        }
      ]
    },
    {
      "cell_type": "code",
      "metadata": {
        "id": "nfMH4vAzy8Ag",
        "colab": {
          "base_uri": "https://localhost:8080/"
        },
        "outputId": "507fa742-cc31-4e0a-b959-154feeee15cd"
      },
      "source": [
        "x = 1\n",
        "y = 1.0 \n",
        "x is y"
      ],
      "execution_count": null,
      "outputs": [
        {
          "output_type": "execute_result",
          "data": {
            "text/plain": [
              "False"
            ]
          },
          "metadata": {
            "tags": []
          },
          "execution_count": 114
        }
      ]
    },
    {
      "cell_type": "markdown",
      "metadata": {
        "id": "t5CBYPO9zDdY"
      },
      "source": [
        "¿Cómo son los objetos idénticos?"
      ]
    },
    {
      "cell_type": "code",
      "metadata": {
        "colab": {
          "base_uri": "https://localhost:8080/"
        },
        "id": "J2ICr3UjYGSq",
        "outputId": "59471a4d-2e3d-4797-b20c-cb34fe205105"
      },
      "source": [
        "y = x\n",
        "x is y"
      ],
      "execution_count": null,
      "outputs": [
        {
          "output_type": "execute_result",
          "data": {
            "text/plain": [
              "True"
            ]
          },
          "metadata": {
            "tags": []
          },
          "execution_count": 119
        }
      ]
    },
    {
      "cell_type": "code",
      "metadata": {
        "id": "FrY8bFXxy-mp",
        "colab": {
          "base_uri": "https://localhost:8080/"
        },
        "outputId": "1f898863-9955-442e-ddf8-8d20866c7608"
      },
      "source": [
        "l1, l3"
      ],
      "execution_count": null,
      "outputs": [
        {
          "output_type": "execute_result",
          "data": {
            "text/plain": [
              "([1, 17, 3], [1743, 17, 3])"
            ]
          },
          "metadata": {
            "tags": []
          },
          "execution_count": 116
        }
      ]
    },
    {
      "cell_type": "code",
      "metadata": {
        "id": "wlBf3ptQzAJY",
        "colab": {
          "base_uri": "https://localhost:8080/"
        },
        "outputId": "fbc5057d-cc94-465f-e9ef-71133f1739c8"
      },
      "source": [
        "l1[0] in l3"
      ],
      "execution_count": null,
      "outputs": [
        {
          "output_type": "execute_result",
          "data": {
            "text/plain": [
              "False"
            ]
          },
          "metadata": {
            "tags": []
          },
          "execution_count": 117
        }
      ]
    },
    {
      "cell_type": "code",
      "metadata": {
        "colab": {
          "base_uri": "https://localhost:8080/"
        },
        "id": "0JWPhw_jX-fx",
        "outputId": "2b73b16c-ec6e-45e2-da80-68f4666738d0"
      },
      "source": [
        "l1[2] in l3"
      ],
      "execution_count": null,
      "outputs": [
        {
          "output_type": "execute_result",
          "data": {
            "text/plain": [
              "True"
            ]
          },
          "metadata": {
            "tags": []
          },
          "execution_count": 118
        }
      ]
    },
    {
      "cell_type": "markdown",
      "metadata": {
        "id": "_WduyhJxzjnf"
      },
      "source": [
        "Los operadores de membresía `in` y `not in` verifican la membresía dentro de los objetos compuestos. Entonces, por ejemplo, podemos escribir:"
      ]
    },
    {
      "cell_type": "code",
      "metadata": {
        "id": "srT5NujDznuH",
        "colab": {
          "base_uri": "https://localhost:8080/"
        },
        "outputId": "17f46d0d-2ef2-4cc5-cda4-b958558df114"
      },
      "source": [
        "2 in [ 1, 2, 3]"
      ],
      "execution_count": null,
      "outputs": [
        {
          "output_type": "execute_result",
          "data": {
            "text/plain": [
              "True"
            ]
          },
          "metadata": {
            "tags": []
          },
          "execution_count": 121
        }
      ]
    },
    {
      "cell_type": "markdown",
      "metadata": {
        "id": "Fopx24gO9SgG"
      },
      "source": [
        "podemos usar el `not in`"
      ]
    },
    {
      "cell_type": "code",
      "metadata": {
        "id": "XQbYUlhIzlHY",
        "colab": {
          "base_uri": "https://localhost:8080/"
        },
        "outputId": "2f1b7997-ace0-4403-f413-641e93c28ffc"
      },
      "source": [
        "2 not in [1 , 2 , 3]"
      ],
      "execution_count": null,
      "outputs": [
        {
          "output_type": "execute_result",
          "data": {
            "text/plain": [
              "False"
            ]
          },
          "metadata": {
            "tags": []
          },
          "execution_count": 120
        }
      ]
    },
    {
      "cell_type": "markdown",
      "metadata": {
        "id": "GRT4uSyN9cZf"
      },
      "source": [
        "O con `str`"
      ]
    },
    {
      "cell_type": "code",
      "metadata": {
        "id": "HQCDKYTgzogO",
        "colab": {
          "base_uri": "https://localhost:8080/"
        },
        "outputId": "e834bc7d-4f3d-46fe-b57c-25d6fd90f324"
      },
      "source": [
        "'H' in 'Hola Mundo'"
      ],
      "execution_count": null,
      "outputs": [
        {
          "output_type": "execute_result",
          "data": {
            "text/plain": [
              "True"
            ]
          },
          "metadata": {
            "tags": []
          },
          "execution_count": 122
        }
      ]
    }
  ]
}