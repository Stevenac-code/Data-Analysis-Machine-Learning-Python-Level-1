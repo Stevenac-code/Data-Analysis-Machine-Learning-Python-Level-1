{
  "nbformat": 4,
  "nbformat_minor": 0,
  "metadata": {
    "colab": {
      "name": "sesion4.ipynb",
      "provenance": [],
      "collapsed_sections": [],
      "include_colab_link": true
    },
    "kernelspec": {
      "name": "python3",
      "display_name": "Python 3"
    }
  },
  "cells": [
    {
      "cell_type": "markdown",
      "metadata": {
        "id": "view-in-github",
        "colab_type": "text"
      },
      "source": [
        "<a href=\"https://colab.research.google.com/github/Stevenac-code/Data-Analysis-Machine-Learning-Python-Level-1/blob/master/sesion4.ipynb\" target=\"_parent\"><img src=\"https://colab.research.google.com/assets/colab-badge.svg\" alt=\"Open In Colab\"/></a>"
      ]
    },
    {
      "cell_type": "markdown",
      "metadata": {
        "id": "sooTJcqEUgPQ"
      },
      "source": [
        "<p><img alt=\"Colaboratory logo\" height=\"140px\" src=\"https://upload.wikimedia.org/wikipedia/commons/archive/f/fb/20161010213812%21Escudo-UdeA.svg\" align=\"left\" hspace=\"10px\" vspace=\"0px\"></p>\n",
        "\n",
        "# **Diplomado de Análisis de datos y Machine Learning en Python**\n",
        "\n",
        "\n",
        "El presente diplomado hace parte del centro de Big Data de la facultad de ciencias exactas y naturales (FCEN) de la Universidad de Antioquia.\n",
        "\n",
        "## **Sesión 4**\n",
        "\n",
        "## **Contenido**\n",
        "  \n",
        "- <a href=\"#est\"> Estructuras de datos</a><br>\n",
        "  - <a href=\"#lis\"> Listas</a><br>\n",
        "    - <a href=\"#ind\"> Indexación y segmentación</a><br>\n",
        "    - <a href=\"#lpc\"> Listas por comprensión</a><br>\n",
        "  - <a href=\"#tup\"> Tuplas</a><br>\n",
        "  - <a href=\"#dic\"> Diccionarios</a><br>\n",
        "\n",
        "\n",
        "\n",
        "\n"
      ]
    },
    {
      "cell_type": "markdown",
      "metadata": {
        "id": "kCOIbNl5VeIr"
      },
      "source": [
        "<p><a name=\"est\"></a></p>\n",
        "\n",
        "# **Estructuras de datos**\n",
        "\n",
        "\n",
        "Hemos visto los tipos de variables simples de Python: `int`, `float` , `bool`, `str` y `None`. Adicionalmente, Python tiene varios tipos compuestos, que actúan como contenedores para otros tipos. Estos tipos compuestos son: Listas, tuplas y diccionarios. Vamos a estudiar cada una de estas estructuras:"
      ]
    },
    {
      "cell_type": "markdown",
      "metadata": {
        "id": "jdwQ4EuWVzk5"
      },
      "source": [
        "<p><a name=\"lis\"></a></p>\n",
        "\n",
        "## **Listas**\n",
        "\n",
        "Las listas son un tipo básico de colección de datos *ordenados* y *mutables* en Python. Cuando decimos que son ordenados queremos decir que para este objeto se tiene una noción de posición para sus elementos, que ya veremos en la sección de *indexación*. Como ya hemos mencionado, la *mutabilidad* hace referencia a que podemos modificar el objeto. \n",
        "\n",
        "Las listas se pueden definir con valores separados por comas entre corchetes"
      ]
    },
    {
      "cell_type": "code",
      "metadata": {
        "colab": {
          "base_uri": "https://localhost:8080/"
        },
        "id": "aEzwhlyLC4Dj",
        "outputId": "3c9eba05-d360-4f8f-9a2e-050ecbd6572b"
      },
      "source": [
        "l1 = [1, 2, 4, 0, 3]\n",
        "l2 = [5, 6, 7, 8, 9]\n",
        "l3 = list()\n",
        "\n",
        "len(l2)"
      ],
      "execution_count": null,
      "outputs": [
        {
          "output_type": "execute_result",
          "data": {
            "text/plain": [
              "5"
            ]
          },
          "metadata": {
            "tags": []
          },
          "execution_count": 41
        }
      ]
    },
    {
      "cell_type": "code",
      "metadata": {
        "id": "5epoK4flUfVi",
        "colab": {
          "base_uri": "https://localhost:8080/"
        },
        "outputId": "b0e3732c-8dbd-4c4f-878e-ddd6fbffe00b"
      },
      "source": [
        "for elemento in range(len(l1)):\n",
        "  l3.append(l1[elemento] + l2[elemento])\n",
        "\n",
        "print(l3)"
      ],
      "execution_count": null,
      "outputs": [
        {
          "output_type": "stream",
          "text": [
            "[6, 8, 11, 8, 12]\n"
          ],
          "name": "stdout"
        }
      ]
    },
    {
      "cell_type": "markdown",
      "metadata": {
        "id": "GoDhgKAKV5wY"
      },
      "source": [
        " \n",
        "\n",
        "\n",
        "\n",
        "Podemos obtener la longitud o número de elementos de la lista con la función propia de Python `len`:"
      ]
    },
    {
      "cell_type": "code",
      "metadata": {
        "id": "aBE62S5XbXEF",
        "colab": {
          "base_uri": "https://localhost:8080/"
        },
        "outputId": "1168a51a-4a9a-44de-fb26-b4b4437650ed"
      },
      "source": [
        "print(len(l3), len(l2))"
      ],
      "execution_count": null,
      "outputs": [
        {
          "output_type": "stream",
          "text": [
            "5 5\n"
          ],
          "name": "stdout"
        }
      ]
    },
    {
      "cell_type": "markdown",
      "metadata": {
        "id": "8eqVFr21BhZA"
      },
      "source": [
        "Podemos obtener la suma de los elementos, el valor máximo y mínimo de la lista con las funciones de agregación `sum`, `max` y `min`, respectivamente:"
      ]
    },
    {
      "cell_type": "code",
      "metadata": {
        "id": "4x70GvvnBwV7",
        "colab": {
          "base_uri": "https://localhost:8080/"
        },
        "outputId": "8d90fa04-a7f2-418f-a3cc-1990108e005f"
      },
      "source": [
        "print(sum(l1), max(l1), min(l1))"
      ],
      "execution_count": null,
      "outputs": [
        {
          "output_type": "stream",
          "text": [
            "10 4 0\n"
          ],
          "name": "stdout"
        }
      ]
    },
    {
      "cell_type": "markdown",
      "metadata": {
        "id": "tTmbBOjeWLFA"
      },
      "source": [
        "Veamos algunos métodos asociados con este objeto.\n",
        "En primera instancia tenemos el método `sort()`, este es un método IN PLACE"
      ]
    },
    {
      "cell_type": "code",
      "metadata": {
        "colab": {
          "base_uri": "https://localhost:8080/"
        },
        "id": "kilbVNk6EDej",
        "outputId": "e336f821-4317-42f3-da22-9d77ba5d3711"
      },
      "source": [
        "print(l1)\n",
        "print(sorted(l1))\n",
        "print(l1)"
      ],
      "execution_count": null,
      "outputs": [
        {
          "output_type": "stream",
          "text": [
            "[4, 3, 2, 1, 0]\n",
            "[0, 1, 2, 3, 4]\n",
            "[4, 3, 2, 1, 0]\n"
          ],
          "name": "stdout"
        }
      ]
    },
    {
      "cell_type": "code",
      "metadata": {
        "id": "0gZGH8Vk3S8e",
        "colab": {
          "base_uri": "https://localhost:8080/"
        },
        "outputId": "472c799a-329f-4730-87c7-14a19c431a03"
      },
      "source": [
        "print(l1)\n",
        "l1.sort()\n",
        "print(l1)"
      ],
      "execution_count": null,
      "outputs": [
        {
          "output_type": "stream",
          "text": [
            "[1, 2, 4, 0, 3]\n",
            "[0, 1, 2, 3, 4]\n"
          ],
          "name": "stdout"
        }
      ]
    },
    {
      "cell_type": "markdown",
      "metadata": {
        "id": "fuOV6ewN3hbn"
      },
      "source": [
        "Podemos pasarle como argumento al método `sort(reverse =True)` para obtener la lista ordenada de menor a mayor."
      ]
    },
    {
      "cell_type": "code",
      "metadata": {
        "id": "5n0ZFk_TDFjz",
        "colab": {
          "base_uri": "https://localhost:8080/"
        },
        "outputId": "859ea0d5-3c62-4ed6-ab08-b98cc61c4876"
      },
      "source": [
        "l1.sort(reverse= True)\n",
        "print(l1)"
      ],
      "execution_count": null,
      "outputs": [
        {
          "output_type": "stream",
          "text": [
            "[4, 3, 2, 1, 0]\n"
          ],
          "name": "stdout"
        }
      ]
    },
    {
      "cell_type": "markdown",
      "metadata": {
        "id": "qbtLid-B4UNr"
      },
      "source": [
        "Con el método `append()` podemos agregar un elemento al final de la lista"
      ]
    },
    {
      "cell_type": "code",
      "metadata": {
        "id": "aidVH594WMuF",
        "colab": {
          "base_uri": "https://localhost:8080/"
        },
        "outputId": "85d36e07-43e5-4141-e4c5-356fe8a278c7"
      },
      "source": [
        "l1.append(100)\n",
        "print(l1)"
      ],
      "execution_count": null,
      "outputs": [
        {
          "output_type": "stream",
          "text": [
            "[0, 1, 2, 3, 4, 100]\n"
          ],
          "name": "stdout"
        }
      ]
    },
    {
      "cell_type": "markdown",
      "metadata": {
        "id": "E30JUVOw4f0E"
      },
      "source": [
        "O hacerlo en general con `insert()` pasándole un argumento para que lo inserte al inicio de la lista o si le paso dos argumentos, entonces el primero será la posición a insertar el elemento y el segudo será el elemento."
      ]
    },
    {
      "cell_type": "code",
      "metadata": {
        "id": "5LleYxAHDP7b",
        "colab": {
          "base_uri": "https://localhost:8080/"
        },
        "outputId": "357927e2-6235-421e-b03b-39e5db035d8a"
      },
      "source": [
        "l1.insert(5, 200)\n",
        "print(l1)"
      ],
      "execution_count": null,
      "outputs": [
        {
          "output_type": "stream",
          "text": [
            "[0, 1, 200, 2, 3, 200, 4]\n"
          ],
          "name": "stdout"
        }
      ]
    },
    {
      "cell_type": "markdown",
      "metadata": {
        "id": "kQchcYaK6TPd"
      },
      "source": [
        "`remove(x)` puede eliminar un elemento `x` de la lista."
      ]
    },
    {
      "cell_type": "code",
      "metadata": {
        "id": "YCXbwxNPDiZ1",
        "colab": {
          "base_uri": "https://localhost:8080/"
        },
        "outputId": "75f409ff-cdd8-4768-dd94-50af828da8b0"
      },
      "source": [
        "l1.remove(200)\n",
        "print(l1)"
      ],
      "execution_count": null,
      "outputs": [
        {
          "output_type": "stream",
          "text": [
            "[0, 1, 2, 3, 4, 100]\n"
          ],
          "name": "stdout"
        }
      ]
    },
    {
      "cell_type": "markdown",
      "metadata": {
        "id": "pnYiqXYi6w-P"
      },
      "source": [
        "`index(x)` nos devuelve la posición de el elemento `x` en la lista"
      ]
    },
    {
      "cell_type": "code",
      "metadata": {
        "id": "bmyhBJBaDqck"
      },
      "source": [
        "pos1 = l1.index(200)"
      ],
      "execution_count": null,
      "outputs": []
    },
    {
      "cell_type": "markdown",
      "metadata": {
        "id": "XyPtrGN77Bs5"
      },
      "source": [
        "`count(x)` nos permite contar las veces que está el elemento `x` en la lista"
      ]
    },
    {
      "cell_type": "code",
      "metadata": {
        "id": "IkK8isQ-DzpY",
        "colab": {
          "base_uri": "https://localhost:8080/"
        },
        "outputId": "74628e5b-b1de-4944-a04c-790443ccf9f0"
      },
      "source": [
        "l1.count(200)"
      ],
      "execution_count": null,
      "outputs": [
        {
          "output_type": "execute_result",
          "data": {
            "text/plain": [
              "2"
            ]
          },
          "metadata": {
            "tags": []
          },
          "execution_count": 46
        }
      ]
    },
    {
      "cell_type": "code",
      "metadata": {
        "colab": {
          "base_uri": "https://localhost:8080/"
        },
        "id": "ORWVpSN3HSQn",
        "outputId": "5ed6ecb0-9dff-4bc8-8152-95344de6dab6"
      },
      "source": [
        "print(l1)"
      ],
      "execution_count": null,
      "outputs": [
        {
          "output_type": "stream",
          "text": [
            "[0, 1, 200, 2, 3, 200, 4]\n"
          ],
          "name": "stdout"
        }
      ]
    },
    {
      "cell_type": "markdown",
      "metadata": {
        "id": "j5Fdp2y076wx"
      },
      "source": [
        "O finalmente eliminar un elemento en la posición `i` con `pop(i)`"
      ]
    },
    {
      "cell_type": "code",
      "metadata": {
        "id": "eAUdPHAKdB4r",
        "colab": {
          "base_uri": "https://localhost:8080/"
        },
        "outputId": "55bb956c-6b1e-48b3-bf89-064c74630578"
      },
      "source": [
        "pos2 = pos1 + 1 +l1[pos1 +1:].index(200)\n",
        "print(pos2)"
      ],
      "execution_count": null,
      "outputs": [
        {
          "output_type": "stream",
          "text": [
            "5\n"
          ],
          "name": "stdout"
        }
      ]
    },
    {
      "cell_type": "code",
      "metadata": {
        "id": "iJoZVUzl77Nw",
        "colab": {
          "base_uri": "https://localhost:8080/"
        },
        "outputId": "bcf60224-91b1-4824-ef8b-f33d2ee879c3"
      },
      "source": [
        "l1.pop(pos2)\n",
        "l1.pop(pos1)\n",
        "print(l1)"
      ],
      "execution_count": null,
      "outputs": [
        {
          "output_type": "stream",
          "text": [
            "[0, 1, 2, 3, 4]\n"
          ],
          "name": "stdout"
        }
      ]
    },
    {
      "cell_type": "markdown",
      "metadata": {
        "id": "qtYOk9zVW3xu"
      },
      "source": [
        "Adicionalmente, hay más métodos de lista incorporados; están bien cubiertos en la [documentación](https://docs.python.org/3/tutorial/datastructures.html) en línea de Python.\n",
        "\n",
        "Una de las características de los objetos compuestos de Python es que pueden contener objetos de cualquier tipo, o incluso una combinación de tipos. Por ejemplo:"
      ]
    },
    {
      "cell_type": "code",
      "metadata": {
        "id": "u62_pTfaWyiq",
        "colab": {
          "base_uri": "https://localhost:8080/"
        },
        "outputId": "e0777674-0391-4b5c-d298-7793c40286e2"
      },
      "source": [
        "lista = [1, \n",
        "         'dos', \n",
        "         3.0, \n",
        "         4+0j, \n",
        "         [5, 6], \n",
        "         (7, 8)]\n",
        "print(lista)"
      ],
      "execution_count": null,
      "outputs": [
        {
          "output_type": "stream",
          "text": [
            "[1, 'dos', 3.0, (4+0j), [5, 6], (7, 8)]\n"
          ],
          "name": "stdout"
        }
      ]
    },
    {
      "cell_type": "code",
      "metadata": {
        "id": "PXeA6z5OdhIQ",
        "colab": {
          "base_uri": "https://localhost:8080/"
        },
        "outputId": "c8df7127-ced8-4b8e-b718-abb1fa2bc8b3"
      },
      "source": [
        "type(lista)"
      ],
      "execution_count": null,
      "outputs": [
        {
          "output_type": "execute_result",
          "data": {
            "text/plain": [
              "list"
            ]
          },
          "metadata": {
            "tags": []
          },
          "execution_count": 60
        }
      ]
    },
    {
      "cell_type": "code",
      "metadata": {
        "id": "c3BXMlpRdXKj",
        "colab": {
          "base_uri": "https://localhost:8080/"
        },
        "outputId": "fbbba01c-bcc8-4b5f-c527-453b740e53b8"
      },
      "source": [
        "len(lista)"
      ],
      "execution_count": null,
      "outputs": [
        {
          "output_type": "execute_result",
          "data": {
            "text/plain": [
              "6"
            ]
          },
          "metadata": {
            "tags": []
          },
          "execution_count": 61
        }
      ]
    },
    {
      "cell_type": "markdown",
      "metadata": {
        "id": "VVzG9MJTW__z"
      },
      "source": [
        "Este tipo de flexibilidad es una pieza esencial de lo que hace que el código de Python sea relativamente rápido y fácil de escribir. Sin embargo, como veremos, esta flexibilidad tiene su \"punto bajo\": nos costará tiempo de cómputo."
      ]
    },
    {
      "cell_type": "markdown",
      "metadata": {
        "id": "IjJ4Xe-zXKCI"
      },
      "source": [
        "<p><a name=\"ind\"></a></p>\n",
        "\n",
        "### **Indexación y segmentación**\n",
        "\n",
        "Python nos proporciona acceso a los elementos de la lista a través de la indexación de elementos individuales y la segmentación de elementos múltiples. Como veremos, ambos están indicados por una sintaxis de corchetes. \n",
        "\n",
        "**Indexación:** \n",
        "\n",
        "Definamos una lista con los primeros cuatro números pares:\n",
        "\n",
        "\n",
        "\n"
      ]
    },
    {
      "cell_type": "code",
      "metadata": {
        "id": "yiKw3Ri0XB3t"
      },
      "source": [
        "l_ej = [2, 4, 6, 8 ]"
      ],
      "execution_count": null,
      "outputs": []
    },
    {
      "cell_type": "markdown",
      "metadata": {
        "id": "kRYWQEGFYooB"
      },
      "source": [
        "cuyos índices se ilustran en la siguiente figura:"
      ]
    },
    {
      "cell_type": "markdown",
      "metadata": {
        "id": "-MhsVaJoX2_1"
      },
      "source": [
        "![](https://i.imgur.com/Bt04CcC.png)\n",
        "\n",
        "Podemos acceder a un elemento de la lista indicando el índice correspondiente a este mediante corchetes:"
      ]
    },
    {
      "cell_type": "code",
      "metadata": {
        "id": "yR4ZCE3pgAwH",
        "colab": {
          "base_uri": "https://localhost:8080/"
        },
        "outputId": "ec77d2fb-5ca5-4e07-fdfb-c3d977abd05a"
      },
      "source": [
        "print(l_ej[0])\n",
        "print(l_ej[2])\n",
        "print(l_ej[3])"
      ],
      "execution_count": null,
      "outputs": [
        {
          "output_type": "stream",
          "text": [
            "2\n",
            "6\n",
            "8\n"
          ],
          "name": "stdout"
        }
      ]
    },
    {
      "cell_type": "code",
      "metadata": {
        "id": "htR0eI4YaNkt",
        "colab": {
          "base_uri": "https://localhost:8080/"
        },
        "outputId": "5098b9a8-3813-4e47-f89e-4e222048862c"
      },
      "source": [
        "print(l_ej[-4])\n",
        "print(l_ej[-2])\n",
        "print(l_ej[-1])"
      ],
      "execution_count": null,
      "outputs": [
        {
          "output_type": "stream",
          "text": [
            "2\n",
            "6\n",
            "8\n"
          ],
          "name": "stdout"
        }
      ]
    },
    {
      "cell_type": "markdown",
      "metadata": {
        "id": "ALEDfXTJaGWM"
      },
      "source": [
        "Note que en Python, el primero elemento de la lista corresponde a la posición `0`, y no a la posición `1`, que corresponde al segundo elemento.\n",
        "\n",
        "Alternativamente podemos acceder a los elementos de la lista en el orden opuesto con números negativos, comenzando desde `-1`:"
      ]
    },
    {
      "cell_type": "code",
      "metadata": {
        "id": "BJSsS4liaTUO",
        "colab": {
          "base_uri": "https://localhost:8080/"
        },
        "outputId": "5b1bb323-aebd-4219-a9c9-04909858b8e6"
      },
      "source": [
        "print(l_ej[-0])"
      ],
      "execution_count": null,
      "outputs": [
        {
          "output_type": "stream",
          "text": [
            "2\n"
          ],
          "name": "stdout"
        }
      ]
    },
    {
      "cell_type": "code",
      "metadata": {
        "colab": {
          "base_uri": "https://localhost:8080/"
        },
        "id": "besZtiBlKNC-",
        "outputId": "fe94e754-b3e1-4918-dd43-89a734eb3d27"
      },
      "source": [
        "print(l_ej[-1*(-1)])"
      ],
      "execution_count": null,
      "outputs": [
        {
          "output_type": "stream",
          "text": [
            "4\n"
          ],
          "name": "stdout"
        }
      ]
    },
    {
      "cell_type": "markdown",
      "metadata": {
        "id": "8nvC3nKQaqGT"
      },
      "source": [
        "**Nota**: *Este esquema de indexación aplica también a las cadenas de caracteres.*"
      ]
    },
    {
      "cell_type": "code",
      "metadata": {
        "id": "9xEuI6Qn9Vo6",
        "colab": {
          "base_uri": "https://localhost:8080/",
          "height": 35
        },
        "outputId": "c0bc3015-d3d4-4737-b5c9-1e700617b607"
      },
      "source": [
        "texto = \"Hola Mundo\"\n",
        "\n",
        "texto[0]"
      ],
      "execution_count": null,
      "outputs": [
        {
          "output_type": "execute_result",
          "data": {
            "application/vnd.google.colaboratory.intrinsic+json": {
              "type": "string"
            },
            "text/plain": [
              "'H'"
            ]
          },
          "metadata": {
            "tags": []
          },
          "execution_count": 70
        }
      ]
    },
    {
      "cell_type": "markdown",
      "metadata": {
        "id": "akDkcXaVajFP"
      },
      "source": [
        "**Segmentación**:\n",
        "\n",
        "Si la indexación es un medio para obtener un único valor de la lista, la *segmentación* es un medio para acceder a múltiples valores de las listas (o cadenas). La sintáxis para la segmentación es de la forma\n",
        "\n",
        "> \n",
        "\n",
        "    lista[inicio:final:paso]\n",
        "\n",
        "en donde se extraen los elementos de la lista entre la posiciones `inicio` (se incluye) y `final` (no se incluye), con cierto `paso`:\n"
      ]
    },
    {
      "cell_type": "code",
      "metadata": {
        "id": "CkkboXlqac4X",
        "colab": {
          "base_uri": "https://localhost:8080/"
        },
        "outputId": "5b50d507-8606-4b75-cff3-bd5dcfe90c2c"
      },
      "source": [
        "l_ej[0:3]"
      ],
      "execution_count": null,
      "outputs": [
        {
          "output_type": "execute_result",
          "data": {
            "text/plain": [
              "[2, 4, 6]"
            ]
          },
          "metadata": {
            "tags": []
          },
          "execution_count": 71
        }
      ]
    },
    {
      "cell_type": "code",
      "metadata": {
        "colab": {
          "base_uri": "https://localhost:8080/"
        },
        "id": "JMD_54gOLXfP",
        "outputId": "74d1e0ad-c616-4cfe-8823-df32daea1925"
      },
      "source": [
        "l_ej[-4:-2]"
      ],
      "execution_count": null,
      "outputs": [
        {
          "output_type": "execute_result",
          "data": {
            "text/plain": [
              "[2, 4]"
            ]
          },
          "metadata": {
            "tags": []
          },
          "execution_count": 78
        }
      ]
    },
    {
      "cell_type": "markdown",
      "metadata": {
        "id": "LP0tO3pwa5fA"
      },
      "source": [
        "Si omitimos el primer índice, Python lo toma como 0, por lo que podemos escribir de manera equivalente:\n"
      ]
    },
    {
      "cell_type": "code",
      "metadata": {
        "id": "69OySuXDa3M2",
        "colab": {
          "base_uri": "https://localhost:8080/"
        },
        "outputId": "2610d4a1-88ab-48f5-c009-abfc859cf47d"
      },
      "source": [
        "l_ej[:3]"
      ],
      "execution_count": null,
      "outputs": [
        {
          "output_type": "execute_result",
          "data": {
            "text/plain": [
              "[2, 4, 6]"
            ]
          },
          "metadata": {
            "tags": []
          },
          "execution_count": 72
        }
      ]
    },
    {
      "cell_type": "code",
      "metadata": {
        "colab": {
          "base_uri": "https://localhost:8080/"
        },
        "id": "3VdQnfB7MLmA",
        "outputId": "1de7d2f5-ad57-4dd7-d351-d4123238f8ed"
      },
      "source": [
        "l_ej[-4:3]"
      ],
      "execution_count": null,
      "outputs": [
        {
          "output_type": "execute_result",
          "data": {
            "text/plain": [
              "[2, 4, 6]"
            ]
          },
          "metadata": {
            "tags": []
          },
          "execution_count": 84
        }
      ]
    },
    {
      "cell_type": "code",
      "metadata": {
        "colab": {
          "base_uri": "https://localhost:8080/"
        },
        "id": "M2UzAzzoLi-h",
        "outputId": "ccd0e90c-5995-471b-9b85-2cd42c962d82"
      },
      "source": [
        "l_ej[-4:-1]"
      ],
      "execution_count": null,
      "outputs": [
        {
          "output_type": "execute_result",
          "data": {
            "text/plain": [
              "[2, 4, 6]"
            ]
          },
          "metadata": {
            "tags": []
          },
          "execution_count": 80
        }
      ]
    },
    {
      "cell_type": "markdown",
      "metadata": {
        "id": "Oaa9Hx_ubKa3"
      },
      "source": [
        "De forma análoga, si no especificamos el final, Python realiza la segmentación hasta el último elemento de la lista:"
      ]
    },
    {
      "cell_type": "code",
      "metadata": {
        "colab": {
          "base_uri": "https://localhost:8080/"
        },
        "id": "pkEFmbmFLEuS",
        "outputId": "9481314a-db27-4b37-e291-054532c140d4"
      },
      "source": [
        "l_ej[1:4]"
      ],
      "execution_count": null,
      "outputs": [
        {
          "output_type": "execute_result",
          "data": {
            "text/plain": [
              "[4, 6, 8]"
            ]
          },
          "metadata": {
            "tags": []
          },
          "execution_count": 73
        }
      ]
    },
    {
      "cell_type": "code",
      "metadata": {
        "colab": {
          "base_uri": "https://localhost:8080/"
        },
        "id": "qFIO5uNdLqHK",
        "outputId": "74924b3f-ee54-4a8c-d34b-f2cd24e9c2db"
      },
      "source": [
        "l_ej[-3:]"
      ],
      "execution_count": null,
      "outputs": [
        {
          "output_type": "execute_result",
          "data": {
            "text/plain": [
              "[4, 6, 8]"
            ]
          },
          "metadata": {
            "tags": []
          },
          "execution_count": 81
        }
      ]
    },
    {
      "cell_type": "code",
      "metadata": {
        "id": "Dgxoaxqwa9ic",
        "colab": {
          "base_uri": "https://localhost:8080/"
        },
        "outputId": "d96fd20b-52e4-43de-b158-223138ab729f"
      },
      "source": [
        "l_ej[1:]"
      ],
      "execution_count": null,
      "outputs": [
        {
          "output_type": "execute_result",
          "data": {
            "text/plain": [
              "[4, 6, 8]"
            ]
          },
          "metadata": {
            "tags": []
          },
          "execution_count": 74
        }
      ]
    },
    {
      "cell_type": "markdown",
      "metadata": {
        "id": "AP5DOO1xbkwz"
      },
      "source": [
        "También es posible especificar un tercer número entero que represente el tamaño del paso:"
      ]
    },
    {
      "cell_type": "code",
      "metadata": {
        "id": "ZNUF9xVPbQcK",
        "colab": {
          "base_uri": "https://localhost:8080/"
        },
        "outputId": "96a67299-6032-457c-b0f9-fba5e97771e5"
      },
      "source": [
        "l_ej[0:4:2]"
      ],
      "execution_count": null,
      "outputs": [
        {
          "output_type": "execute_result",
          "data": {
            "text/plain": [
              "[2, 6]"
            ]
          },
          "metadata": {
            "tags": []
          },
          "execution_count": 75
        }
      ]
    },
    {
      "cell_type": "code",
      "metadata": {
        "id": "3CIFQtWJffBA",
        "colab": {
          "base_uri": "https://localhost:8080/"
        },
        "outputId": "f766f5ca-b343-45b6-a8d7-ac82b8e61506"
      },
      "source": [
        "l_ej[1:4:2]"
      ],
      "execution_count": null,
      "outputs": [
        {
          "output_type": "execute_result",
          "data": {
            "text/plain": [
              "[4, 8]"
            ]
          },
          "metadata": {
            "tags": []
          },
          "execution_count": 76
        }
      ]
    },
    {
      "cell_type": "code",
      "metadata": {
        "colab": {
          "base_uri": "https://localhost:8080/"
        },
        "id": "rSwfGaa5LeqM",
        "outputId": "9cd4baec-12bd-4d42-9f97-fc9fe2153f88"
      },
      "source": [
        "l_ej[1::2]"
      ],
      "execution_count": null,
      "outputs": [
        {
          "output_type": "execute_result",
          "data": {
            "text/plain": [
              "[4, 8]"
            ]
          },
          "metadata": {
            "tags": []
          },
          "execution_count": 79
        }
      ]
    },
    {
      "cell_type": "markdown",
      "metadata": {
        "id": "GmnDZXXxbr8q"
      },
      "source": [
        "Ahora, si pasamos el paso como un número negativo, el inicio y el final de la segmentación se intercambian:"
      ]
    },
    {
      "cell_type": "code",
      "metadata": {
        "id": "7WxK_69Xbo0S",
        "colab": {
          "base_uri": "https://localhost:8080/"
        },
        "outputId": "59fa101c-4292-408e-eed7-ab61dfc33513"
      },
      "source": [
        "l_ej[::-1]"
      ],
      "execution_count": null,
      "outputs": [
        {
          "output_type": "execute_result",
          "data": {
            "text/plain": [
              "[8, 6, 4, 2]"
            ]
          },
          "metadata": {
            "tags": []
          },
          "execution_count": 85
        }
      ]
    },
    {
      "cell_type": "code",
      "metadata": {
        "id": "NmHK8wvgbuMi",
        "colab": {
          "base_uri": "https://localhost:8080/"
        },
        "outputId": "8038ba6f-bdb0-4934-dab3-6fb8b34d19bc"
      },
      "source": [
        "l_ej[:-4:-2]"
      ],
      "execution_count": null,
      "outputs": [
        {
          "output_type": "execute_result",
          "data": {
            "text/plain": [
              "[8, 4]"
            ]
          },
          "metadata": {
            "tags": []
          },
          "execution_count": 87
        }
      ]
    },
    {
      "cell_type": "code",
      "metadata": {
        "colab": {
          "base_uri": "https://localhost:8080/"
        },
        "id": "yB5KfttjNAh4",
        "outputId": "d158e31a-7043-4bff-e854-d849b02e586d"
      },
      "source": [
        "l_ej[: 3 :]"
      ],
      "execution_count": null,
      "outputs": [
        {
          "output_type": "execute_result",
          "data": {
            "text/plain": [
              "[2, 4, 6]"
            ]
          },
          "metadata": {
            "tags": []
          },
          "execution_count": 89
        }
      ]
    },
    {
      "cell_type": "markdown",
      "metadata": {
        "id": "Y_lZpGO4cCK9"
      },
      "source": [
        "Como mencionamos, las listas son objetos mutables. Podemos utilizar tanto la indexación como la segmentación para modificar elementos de una lista:\n"
      ]
    },
    {
      "cell_type": "code",
      "metadata": {
        "id": "nsH6CYwdcBcn",
        "colab": {
          "base_uri": "https://localhost:8080/"
        },
        "outputId": "c276e95e-f5e6-4bf6-aa9f-36795ec6ee47"
      },
      "source": [
        "l_ej[0] = 100\n",
        "print(l_ej) "
      ],
      "execution_count": null,
      "outputs": [
        {
          "output_type": "stream",
          "text": [
            "[100, 4, 6, 8]\n"
          ],
          "name": "stdout"
        }
      ]
    },
    {
      "cell_type": "code",
      "metadata": {
        "id": "PzBx_8CkgjBh"
      },
      "source": [
        "l_ej[1:4] = [1, 2, 3]"
      ],
      "execution_count": null,
      "outputs": []
    },
    {
      "cell_type": "code",
      "metadata": {
        "colab": {
          "base_uri": "https://localhost:8080/"
        },
        "id": "IWRvIXyqNUzs",
        "outputId": "a698f07e-c142-4cfb-a614-fe6043393834"
      },
      "source": [
        "print(l_ej)"
      ],
      "execution_count": null,
      "outputs": [
        {
          "output_type": "stream",
          "text": [
            "[100, 1, 2, 3]\n"
          ],
          "name": "stdout"
        }
      ]
    },
    {
      "cell_type": "markdown",
      "metadata": {
        "id": "v6B-fcRUcPmb"
      },
      "source": [
        "**Ejercicio 1:** Cree una lista que contenga los números pares en el intervalo [1, 10]"
      ]
    },
    {
      "cell_type": "code",
      "metadata": {
        "id": "5n97GhqhcfWM",
        "colab": {
          "base_uri": "https://localhost:8080/"
        },
        "outputId": "55ee800c-9a30-453c-b7a7-027ecf353aae"
      },
      "source": [
        "lista = []\n",
        "\n",
        "for i in range(1, 11):\n",
        "  if i % 2 == 0:\n",
        "    lista.append(i)\n",
        "\n",
        "print(lista)"
      ],
      "execution_count": null,
      "outputs": [
        {
          "output_type": "stream",
          "text": [
            "[2, 4, 6, 8, 10]\n"
          ],
          "name": "stdout"
        }
      ]
    },
    {
      "cell_type": "markdown",
      "metadata": {
        "id": "0zL7_1yAEtfJ"
      },
      "source": [
        "Podemos modificar el rango de manera que solo se itere sobre números pares:"
      ]
    },
    {
      "cell_type": "code",
      "metadata": {
        "id": "1KKWQw17cJgQ",
        "colab": {
          "base_uri": "https://localhost:8080/"
        },
        "outputId": "d569d33a-b898-4e17-a47c-93dc7f9c9320"
      },
      "source": [
        "lista = []\n",
        "\n",
        "for i in range(2, 11,2):\n",
        "  lista.append(i)\n",
        "\n",
        "print(lista)"
      ],
      "execution_count": null,
      "outputs": [
        {
          "output_type": "stream",
          "text": [
            "[2, 4, 6, 8, 10]\n"
          ],
          "name": "stdout"
        }
      ]
    },
    {
      "cell_type": "markdown",
      "metadata": {
        "id": "RkIFSkmJcks8"
      },
      "source": [
        "**Ejercicio 2:** Solicite al usuario una palabra e imprima si esta es un palíndromo o no. (Un palíndromo es una palabra o frase que se lee igual hacia adelante y hacia atrás)"
      ]
    },
    {
      "cell_type": "code",
      "metadata": {
        "id": "9ysXywwCcaU2",
        "colab": {
          "base_uri": "https://localhost:8080/"
        },
        "outputId": "e20ce0c5-e02d-4ffc-d245-7679ab0aa39a"
      },
      "source": [
        "lista_palabra = []\n",
        "lista_palabraReves = []\n",
        "palabra = input(\"Ingrese una palabra\\n\")\n",
        "for i in palabra:\n",
        "  lista_palabra.append(i)\n",
        "  lista_palabraReves.insert(0, i)\n",
        "\n",
        "\n",
        "if lista_palabra == lista_palabraReves:\n",
        "  print(\"La palabra es un palíndromo \\n\")\n",
        "else:\n",
        "  print(\"La palabra no es un palíndromo\\n\")"
      ],
      "execution_count": null,
      "outputs": [
        {
          "output_type": "stream",
          "text": [
            "Ingrese una palabra\n",
            "Ana\n",
            "La palabra no es un palíndromo\n",
            "\n"
          ],
          "name": "stdout"
        }
      ]
    },
    {
      "cell_type": "code",
      "metadata": {
        "id": "Bieqr6-8i8-3",
        "colab": {
          "base_uri": "https://localhost:8080/"
        },
        "outputId": "5ae16716-2c55-4b5b-9be9-a1672475e720"
      },
      "source": [
        "cadena = input(\"Ingrese una palabra\\n\")\n",
        "cadena2 = cadena.lower().replace(' ', '')\n",
        "\n",
        "if cadena2 == cadena2[::-1]:\n",
        "  print(f'\"{cadena}\" es un palíndromo')\n",
        "else:\n",
        "  print(f'\"{cadena}\" no es un palíndromo')"
      ],
      "execution_count": null,
      "outputs": [
        {
          "output_type": "stream",
          "text": [
            "Ingrese una palabra\n",
            "Anita lavá la tina\n",
            "\"Anita lavá la tina\" no es un palíndromo\n"
          ],
          "name": "stdout"
        }
      ]
    },
    {
      "cell_type": "markdown",
      "metadata": {
        "id": "EZJ0-o7fcsm5"
      },
      "source": [
        "**Ejercicio 3:** Dado el siguiente listado de alumnos de una clase\n",
        "\n",
        "> \n",
        "    alumnos = ['Ana', 'Luis', 'Pedro', 'Marta', 'Nerea', 'Pablo']\n",
        "\n",
        "Crear dos listas: una que contenga la primera letra de cada nombre y otra que contenga la última letra"
      ]
    },
    {
      "cell_type": "code",
      "metadata": {
        "id": "k5u6HpnVcvHQ",
        "colab": {
          "base_uri": "https://localhost:8080/"
        },
        "outputId": "52821b47-d2fc-47c8-833f-cd7e48bff335"
      },
      "source": [
        "inicial = []; final = []\n",
        "alumnos = ['Ana', 'Luis', 'Pedro', 'Marta', 'Nerea', 'Pablo']\n",
        "\n",
        "for alumno in alumnos:\n",
        "  inicial.append(alumno[0])\n",
        "  final.append(alumno[-1])\n",
        "\n",
        "print(inicial, final)"
      ],
      "execution_count": null,
      "outputs": [
        {
          "output_type": "stream",
          "text": [
            "['A', 'L', 'P', 'M', 'N', 'P'] ['a', 's', 'o', 'a', 'a', 'o']\n"
          ],
          "name": "stdout"
        }
      ]
    },
    {
      "cell_type": "markdown",
      "metadata": {
        "id": "xZFxabFnc0lT"
      },
      "source": [
        "<p><a name=\"lpc\"></a></p>\n",
        "\n",
        "### **Listas por comprensión**\n",
        "\n",
        "Las listas por comprensión son simplemente una forma de comprimir un ciclo de construcción de listas en una sola línea corta y legible. La sintáxis es de la forma\n",
        "\n",
        ">  \n",
        "\n",
        "    [expresion for var in secuencia if cond] \n",
        "\n",
        "\n",
        "donde *expresion* es cualquier expresión válida, *var* es la variable de iteración, *secuencia* es cualquier objeto de Python iterable, y *cond* es alguna condición que se imponga sobre la variable de iteración. Por ejemplo, para construir una lista con el cuadrado de los primeros 5 enteros podríamos escribir lo siguiente:"
      ]
    },
    {
      "cell_type": "code",
      "metadata": {
        "id": "DetUhoLhcxkF",
        "colab": {
          "base_uri": "https://localhost:8080/"
        },
        "outputId": "e883a4ca-39b7-4ae8-c6c3-e8c9f521d7e6"
      },
      "source": [
        "l = [i for i in range(10)]\n",
        "print(l)"
      ],
      "execution_count": null,
      "outputs": [
        {
          "output_type": "stream",
          "text": [
            "[0, 1, 2, 3, 4, 5, 6, 7, 8, 9]\n"
          ],
          "name": "stdout"
        }
      ]
    },
    {
      "cell_type": "markdown",
      "metadata": {
        "id": "B0atXShUdIi9"
      },
      "source": [
        "La lista por comprensión equivalente es la siguiente:"
      ]
    },
    {
      "cell_type": "code",
      "metadata": {
        "id": "uL9ZdUmqdJCE",
        "colab": {
          "base_uri": "https://localhost:8080/"
        },
        "outputId": "2648221f-a5e5-4b11-a49d-fa29c6cea733"
      },
      "source": [
        "l = []\n",
        "for i in range(10):\n",
        "  l.append(i)\n",
        "print(l)"
      ],
      "execution_count": null,
      "outputs": [
        {
          "output_type": "stream",
          "text": [
            "[0, 1, 2, 3, 4, 5, 6, 7, 8, 9]\n"
          ],
          "name": "stdout"
        }
      ]
    },
    {
      "cell_type": "code",
      "metadata": {
        "id": "xvOFOH4XkaHs",
        "colab": {
          "base_uri": "https://localhost:8080/"
        },
        "outputId": "e5a4f296-d084-4efe-be21-c5bc181cac32"
      },
      "source": [
        "l3 = [j for j in range(1,31) if j % 3 == 0]\n",
        "print(l3)"
      ],
      "execution_count": null,
      "outputs": [
        {
          "output_type": "stream",
          "text": [
            "[3, 6, 9, 12, 15, 18, 21, 24, 27, 30]\n"
          ],
          "name": "stdout"
        }
      ]
    },
    {
      "cell_type": "code",
      "metadata": {
        "colab": {
          "base_uri": "https://localhost:8080/"
        },
        "id": "GNdCnPOXRyEf",
        "outputId": "0faf91d8-0541-4d34-b0e2-d1984f02023e"
      },
      "source": [
        "l3 = []\n",
        "for i in range(1,31):\n",
        "  if i % 3 == 0:\n",
        "    l3.append(i)\n",
        "print(l3)"
      ],
      "execution_count": null,
      "outputs": [
        {
          "output_type": "stream",
          "text": [
            "[3, 6, 9, 12, 15, 18, 21, 24, 27, 30]\n"
          ],
          "name": "stdout"
        }
      ]
    },
    {
      "cell_type": "markdown",
      "metadata": {
        "id": "IQQm9SZwdRpd"
      },
      "source": [
        "Observe las equivalencias entre ambos bloques de código. Al igual que con muchas sentencias de Python, casi podemos leer el significado de esta sentencia: \"construya una lista que consista en el cuadrado de `i` para cada `i` desde 1 hasta 5\". \n",
        "\n",
        "A veces vamos a querer crear una lista no solo a partir de un valor, sino a partir de dos. Por ejemplo:\n"
      ]
    },
    {
      "cell_type": "code",
      "metadata": {
        "id": "IScS_vXadLbs",
        "colab": {
          "base_uri": "https://localhost:8080/"
        },
        "outputId": "2c1e2a44-f8bd-456b-e17e-b44593cb13af"
      },
      "source": [
        "l_moneda = []\n",
        "\n",
        "for i in range(2):\n",
        "  for j in range(2):\n",
        "    l_moneda.append((i,j))\n",
        "\n",
        "print(l_moneda)"
      ],
      "execution_count": null,
      "outputs": [
        {
          "output_type": "stream",
          "text": [
            "[(0, 0), (0, 1), (1, 0), (1, 1)]\n"
          ],
          "name": "stdout"
        }
      ]
    },
    {
      "cell_type": "markdown",
      "metadata": {
        "id": "XeAtAvRvdXzM"
      },
      "source": [
        "Este tipo de ciclos aninados se pueden incluir en una lista por comprensión simplemente añadiendo otro ciclo `for`:"
      ]
    },
    {
      "cell_type": "code",
      "metadata": {
        "id": "Q5lwEmuhdWPF",
        "colab": {
          "base_uri": "https://localhost:8080/"
        },
        "outputId": "b76e551e-ed8e-4ceb-d16f-e664eb4ce84a"
      },
      "source": [
        "l_moneda = [ (i, j) for i in range(2) for j in range(2)]\n",
        "print(l_moneda)"
      ],
      "execution_count": null,
      "outputs": [
        {
          "output_type": "stream",
          "text": [
            "[(0, 0), (0, 1), (1, 0), (1, 1)]\n"
          ],
          "name": "stdout"
        }
      ]
    },
    {
      "cell_type": "markdown",
      "metadata": {
        "id": "NUV2M7REdbqX"
      },
      "source": [
        "Podemos controlar aún más la iteración agregando un condicional al final de la expresión. Por ejemplo, podríamos escribir el ejemplo 1 con listas por comprensión de la siguiente manera:\n"
      ]
    },
    {
      "cell_type": "code",
      "metadata": {
        "id": "NLiFaIi8dZw7",
        "colab": {
          "base_uri": "https://localhost:8080/"
        },
        "outputId": "225864f5-bc29-4eed-b45c-24491713845d"
      },
      "source": [
        "[i for i in range(2,11) if i % 2 == 0]"
      ],
      "execution_count": null,
      "outputs": [
        {
          "output_type": "execute_result",
          "data": {
            "text/plain": [
              "[2, 4, 6, 8, 10]"
            ]
          },
          "metadata": {
            "tags": []
          },
          "execution_count": 111
        }
      ]
    },
    {
      "cell_type": "markdown",
      "metadata": {
        "id": "BB1MIUYBFmq8"
      },
      "source": [
        "O alternativamente"
      ]
    },
    {
      "cell_type": "code",
      "metadata": {
        "id": "j7KlCmHwFpAF",
        "colab": {
          "base_uri": "https://localhost:8080/"
        },
        "outputId": "4cd0fa69-6ed6-48ae-f2ea-ecdb0ce0bef3"
      },
      "source": [
        "[i for i in range(2,11,2) ]"
      ],
      "execution_count": null,
      "outputs": [
        {
          "output_type": "execute_result",
          "data": {
            "text/plain": [
              "[2, 4, 6, 8, 10]"
            ]
          },
          "metadata": {
            "tags": []
          },
          "execution_count": 112
        }
      ]
    },
    {
      "cell_type": "markdown",
      "metadata": {
        "id": "pq_9YE89dl2b"
      },
      "source": [
        "Incluso podemos añadir las sentencias `if` y `else` para tener mayor control sobre los elementos de la lista. \n",
        "\n",
        "Por ejemplo, si quisieramos construir una lista con 10 elementos, tal que sus primeros cinco elementos sean los primeros cinco números enteros, y que el resto de elementos sean el cuadrado de los enteros 6,7,8,9 y 10, prodríamos escribir:"
      ]
    },
    {
      "cell_type": "code",
      "metadata": {
        "id": "UswOqn-4l-0t",
        "colab": {
          "base_uri": "https://localhost:8080/"
        },
        "outputId": "f86a6564-0b60-4c0d-e75f-86877f0dbb38"
      },
      "source": [
        "x = 5\n",
        "\n",
        "y = 1 if x == 0 else 1000\n",
        "\n",
        "print(x, y)"
      ],
      "execution_count": null,
      "outputs": [
        {
          "output_type": "stream",
          "text": [
            "5 1000\n"
          ],
          "name": "stdout"
        }
      ]
    },
    {
      "cell_type": "code",
      "metadata": {
        "id": "UNGXHV4CmWgV",
        "colab": {
          "base_uri": "https://localhost:8080/"
        },
        "outputId": "c80e9129-74d2-46bd-957f-c1607f4f155f"
      },
      "source": [
        "l_r = []\n",
        "for i in range(1,11):\n",
        "  if i < 6:\n",
        "    l_r.append(i)\n",
        "  else :\n",
        "    l_r.append(i ** 2)\n",
        "print(l_r)"
      ],
      "execution_count": null,
      "outputs": [
        {
          "output_type": "stream",
          "text": [
            "[1, 2, 3, 4, 5, 36, 49, 64, 81, 100]\n"
          ],
          "name": "stdout"
        }
      ]
    },
    {
      "cell_type": "code",
      "metadata": {
        "id": "eCGMW3b1djbD",
        "colab": {
          "base_uri": "https://localhost:8080/"
        },
        "outputId": "245810d3-cb98-42d5-a496-7c422b826d86"
      },
      "source": [
        "l_r = [i if i < 6 else i ** 2 for i in range(1,10)]\n",
        "print(l_r)"
      ],
      "execution_count": null,
      "outputs": [
        {
          "output_type": "stream",
          "text": [
            "[1, 2, 3, 4, 5, 36, 49, 64, 81]\n"
          ],
          "name": "stdout"
        }
      ]
    },
    {
      "cell_type": "markdown",
      "metadata": {
        "id": "ixPYGlDmdrnm"
      },
      "source": [
        "**Ejercicio 4:** Resuelva el ejercicio 3 utilizando listas por comprensión."
      ]
    },
    {
      "cell_type": "code",
      "metadata": {
        "id": "WWBACv1BdnnC"
      },
      "source": [
        ""
      ],
      "execution_count": null,
      "outputs": []
    },
    {
      "cell_type": "markdown",
      "metadata": {
        "id": "CfA8C6idgFyd"
      },
      "source": [
        "<p><a name=\"tup\"></a></p>\n",
        "\n",
        "# **Tuplas**\n",
        "\n",
        "Las tuplas son en muchos aspectos similares a las listas, pero se definen entre paréntesis en lugar de corchetes, o separando los elementos por una coma:"
      ]
    },
    {
      "cell_type": "code",
      "metadata": {
        "id": "x7wSYTh1gP6V",
        "colab": {
          "base_uri": "https://localhost:8080/"
        },
        "outputId": "36bab1a8-d272-4412-9358-4a319977ec62"
      },
      "source": [
        "t = (1, 2)\n",
        "type(t)"
      ],
      "execution_count": null,
      "outputs": [
        {
          "output_type": "execute_result",
          "data": {
            "text/plain": [
              "tuple"
            ]
          },
          "metadata": {
            "tags": []
          },
          "execution_count": 116
        }
      ]
    },
    {
      "cell_type": "markdown",
      "metadata": {
        "id": "po2q60kZbDga"
      },
      "source": [
        "O solo separando los elementos sin el paréntesis"
      ]
    },
    {
      "cell_type": "code",
      "metadata": {
        "id": "kMlXgGJtgR_M",
        "colab": {
          "base_uri": "https://localhost:8080/"
        },
        "outputId": "c732cafe-0b95-414e-bb78-6a4e9d4780fb"
      },
      "source": [
        "t_p = 1, 2, 3, 4\n",
        "type(t_p)"
      ],
      "execution_count": null,
      "outputs": [
        {
          "output_type": "execute_result",
          "data": {
            "text/plain": [
              "tuple"
            ]
          },
          "metadata": {
            "tags": []
          },
          "execution_count": 117
        }
      ]
    },
    {
      "cell_type": "markdown",
      "metadata": {
        "id": "8XMV8vqHghIl"
      },
      "source": [
        "Vemos que en Python las tuplas son un objeto de tipo `tuple`. Al igual que las listas, las tuplas tienen una noción de longitud y de orden, por lo que podremos indexar y segmentar estos objetos:"
      ]
    },
    {
      "cell_type": "code",
      "metadata": {
        "id": "KPsdJ3magl09",
        "colab": {
          "base_uri": "https://localhost:8080/"
        },
        "outputId": "f19b73d6-c8f0-47dd-b61c-eef5c3d49dca"
      },
      "source": [
        "print(t_p[0])\n",
        "\n",
        "print(t_p[2: 4])"
      ],
      "execution_count": null,
      "outputs": [
        {
          "output_type": "stream",
          "text": [
            "1\n",
            "(3, 4)\n"
          ],
          "name": "stdout"
        }
      ]
    },
    {
      "cell_type": "markdown",
      "metadata": {
        "id": "u7yTZx71gmLj"
      },
      "source": [
        "La principal característica distintiva de las tuplas es que son estructuras de datos inmutables, lo cual significa que una vez que se crean, no es posible modificar su tamaño y contenido. Si intentamos modificar un elemento de la tupla obtendremos un error:"
      ]
    },
    {
      "cell_type": "code",
      "metadata": {
        "id": "C01F-2yootol",
        "colab": {
          "base_uri": "https://localhost:8080/"
        },
        "outputId": "67c409bb-02a2-49c6-e887-00d64a7fe8bf"
      },
      "source": [
        "try :\n",
        "  t_p[0] = 100\n",
        "except:\n",
        "  print('No se puede hacer asignación por segmentación ni indexación a las tuplas')"
      ],
      "execution_count": null,
      "outputs": [
        {
          "output_type": "stream",
          "text": [
            "No se puede hacer asignación por segmentación ni indexación a las tuplas\n"
          ],
          "name": "stdout"
        }
      ]
    },
    {
      "cell_type": "markdown",
      "metadata": {
        "id": "IOrrwsJLgwN0"
      },
      "source": [
        "**Unpacking**\n",
        "\n",
        "Las tuplas cumplen una función doble: pueden usarse como listas inmutables y también para almacenar información sin una etiqueta explícita. Por ejemplo, supongamos que queremos almacenar la informacion de un punto en el plano cartesiano $(x,y)$. Podríamos tener esta información en una tupla, donde se usará la posición dentro de la tupla para referenciar los puntos\n",
        "\n"
      ]
    },
    {
      "cell_type": "code",
      "metadata": {
        "id": "SZ8-vheEg1bq",
        "colab": {
          "base_uri": "https://localhost:8080/"
        },
        "outputId": "44c509c0-6209-4dbd-f400-00b99be9fc5b"
      },
      "source": [
        "coordenadas = (4 , 5)\n",
        "\n",
        "x, y = coordenadas\n",
        "\n",
        "print(x)"
      ],
      "execution_count": null,
      "outputs": [
        {
          "output_type": "stream",
          "text": [
            "4\n"
          ],
          "name": "stdout"
        }
      ]
    },
    {
      "cell_type": "code",
      "metadata": {
        "id": "66Bn0J_JpMqw",
        "colab": {
          "base_uri": "https://localhost:8080/"
        },
        "outputId": "74c2b818-5137-4448-8c13-c3b645ea8f95"
      },
      "source": [
        "x = 16\n",
        "\n",
        "print(coordenadas, x)\n"
      ],
      "execution_count": null,
      "outputs": [
        {
          "output_type": "stream",
          "text": [
            "(4, 5) 16\n"
          ],
          "name": "stdout"
        }
      ]
    },
    {
      "cell_type": "code",
      "metadata": {
        "colab": {
          "base_uri": "https://localhost:8080/"
        },
        "id": "NXs7ICjDVV2K",
        "outputId": "f63e1b24-651e-4e07-9b09-3b88931e443b"
      },
      "source": [
        "coordenadas = 16, 5\n",
        "print(coordenadas, x)"
      ],
      "execution_count": null,
      "outputs": [
        {
          "output_type": "stream",
          "text": [
            "(16, 5) 16\n"
          ],
          "name": "stdout"
        }
      ]
    },
    {
      "cell_type": "markdown",
      "metadata": {
        "id": "Tp-Sl0HGg3Xe"
      },
      "source": [
        "Note que en esta expresión, ordenar la tupla destruiría la información ya que el significado de cada elemento está dado por su posición en la tupla. Esto funciona particularmente bien en las tuplas debido al mecanismo de *unpacking* de estos objetos. Veámoslo con un ejemplo: \n"
      ]
    },
    {
      "cell_type": "code",
      "metadata": {
        "id": "t6GvOh5Kg35Q",
        "colab": {
          "base_uri": "https://localhost:8080/"
        },
        "outputId": "0dd9cb7e-bfde-4bb2-fb5f-81d984747c4a"
      },
      "source": [
        "nombre, edad , ciudad = (\"Carlos\", 45, \"Medellin\")\n",
        "\n",
        "print(edad, nombre)"
      ],
      "execution_count": null,
      "outputs": [
        {
          "output_type": "stream",
          "text": [
            "45 Carlos\n"
          ],
          "name": "stdout"
        }
      ]
    },
    {
      "cell_type": "markdown",
      "metadata": {
        "id": "nWxnX3pUg9TT"
      },
      "source": [
        "Note que hemos asignado `(\"Carlos\", 45, \"Medellin\")` a `nombre`, `edad` y `ciudad`, respectivamente, en una sola sentencia. A este tipo de procesos se hace referencia cuando se habla del mecanismo de *unpacking* de las tuplas. Por ejemplo, este es el mecanismo que nos permite definir múltiples variables en una sola sentencia\n",
        "\n",
        "\n",
        "   "
      ]
    },
    {
      "cell_type": "code",
      "metadata": {
        "id": "nvULkJ3dhBdt",
        "colab": {
          "base_uri": "https://localhost:8080/"
        },
        "outputId": "7bba3eaf-ac55-4ddc-fd02-9e9aec307669"
      },
      "source": [
        "a , b = 1, 2\n",
        "\n",
        "print(a)\n",
        "print(b)"
      ],
      "execution_count": null,
      "outputs": [
        {
          "output_type": "stream",
          "text": [
            "1\n",
            "2\n"
          ],
          "name": "stdout"
        }
      ]
    },
    {
      "cell_type": "markdown",
      "metadata": {
        "id": "b52ltvRBhD4B"
      },
      "source": [
        "La forma más usada del *unpacking* es la asignación paralela, es decir, la asignación de elementos de un objeto iterable a una tupla de variables:\n"
      ]
    },
    {
      "cell_type": "markdown",
      "metadata": {
        "id": "HpfyzLMtGP0E"
      },
      "source": [
        "Este mecanismo también permite \"desempaquetar\" listas:"
      ]
    },
    {
      "cell_type": "code",
      "metadata": {
        "id": "_oNa6ZcEhKah",
        "colab": {
          "base_uri": "https://localhost:8080/"
        },
        "outputId": "dd5ce1de-4131-4214-879a-b86529a9a325"
      },
      "source": [
        "x = [1, 2, 3]\n",
        "x1, x2, x3 = x\n",
        "print(x1, x2)"
      ],
      "execution_count": null,
      "outputs": [
        {
          "output_type": "stream",
          "text": [
            "1 2\n"
          ],
          "name": "stdout"
        }
      ]
    },
    {
      "cell_type": "markdown",
      "metadata": {
        "id": "Vi3B1ajUhbP4"
      },
      "source": [
        "Si, por ejemplo, solo queremos tomar una parte de la tupla, podemos utilizar una variable como `_` de la siguiente manera: "
      ]
    },
    {
      "cell_type": "code",
      "metadata": {
        "id": "fOW-PDUuhj4y",
        "colab": {
          "base_uri": "https://localhost:8080/"
        },
        "outputId": "ab225a22-4153-477e-9f11-b01541a41f73"
      },
      "source": [
        "coordenadas = 45698, 12987\n",
        "\n",
        "x, _ = coordenadas\n",
        "print(x)"
      ],
      "execution_count": null,
      "outputs": [
        {
          "output_type": "stream",
          "text": [
            "45698\n"
          ],
          "name": "stdout"
        }
      ]
    },
    {
      "cell_type": "markdown",
      "metadata": {
        "id": "XEVKs1YyePpm"
      },
      "source": [
        "Podemos bien pensar entonces en un conjunto de ordenadas de pais y código postal, si queremos obtener entonces los paises podemos iterar por ambos y extraer solo el pais"
      ]
    },
    {
      "cell_type": "code",
      "metadata": {
        "colab": {
          "base_uri": "https://localhost:8080/"
        },
        "id": "6ofzwpE-Xn43",
        "outputId": "fdd13c24-1c85-40f6-8d1f-059c1f5e2836"
      },
      "source": [
        "codigo_postal1 = ['USA',21315, 'COL',15648, 'BRA',48915]\n",
        "print(codigo_postal[0][0])"
      ],
      "execution_count": null,
      "outputs": [
        {
          "output_type": "stream",
          "text": [
            "USA\n"
          ],
          "name": "stdout"
        }
      ]
    },
    {
      "cell_type": "code",
      "metadata": {
        "id": "dDJ-AQ7uhb4k",
        "colab": {
          "base_uri": "https://localhost:8080/"
        },
        "outputId": "3af89fc0-3923-4d21-d673-a3421671fc1e"
      },
      "source": [
        "codigo_postal = [('USA',21315), ('COL',15648), ('BRA',48915)]\n",
        "\n",
        "for pais, _ in codigo_postal:\n",
        "  print(pais)"
      ],
      "execution_count": null,
      "outputs": [
        {
          "output_type": "stream",
          "text": [
            "USA\n",
            "COL\n",
            "BRA\n"
          ],
          "name": "stdout"
        }
      ]
    },
    {
      "cell_type": "code",
      "metadata": {
        "colab": {
          "base_uri": "https://localhost:8080/"
        },
        "id": "hNyiWBY5XAfT",
        "outputId": "5a9ef97c-a6d0-4f8a-ccf1-a0cd9b83886b"
      },
      "source": [
        "print(_)"
      ],
      "execution_count": null,
      "outputs": [
        {
          "output_type": "stream",
          "text": [
            "48915\n"
          ],
          "name": "stdout"
        }
      ]
    },
    {
      "cell_type": "markdown",
      "metadata": {
        "id": "XZcQWl9kewmv"
      },
      "source": [
        "<p><a name=\"dic\"></a></p>\n",
        "\n",
        "# **Diccionarios**\n",
        "\n",
        "Los diccionarios son mapeos extremadamente flexibles de claves a valores, y forman la base de gran parte de la implementación interna de Python. Se pueden crear mediante una lista separada por comas de pares `clave:valor` dentro de llaves:"
      ]
    },
    {
      "cell_type": "code",
      "metadata": {
        "id": "H8UkBFZ1fQLi",
        "colab": {
          "base_uri": "https://localhost:8080/"
        },
        "outputId": "bf03a298-efd7-4447-ada0-16f0be5def60"
      },
      "source": [
        "dc = {'dos': 2, 'tres': 3 ,'uno' : 1 }\n",
        "print(dc)"
      ],
      "execution_count": null,
      "outputs": [
        {
          "output_type": "stream",
          "text": [
            "{'dos': 2, 'tres': 3, 'uno': 1}\n"
          ],
          "name": "stdout"
        }
      ]
    },
    {
      "cell_type": "code",
      "metadata": {
        "id": "fglc-nv4r6ME",
        "colab": {
          "base_uri": "https://localhost:8080/"
        },
        "outputId": "f3b7514b-d6d7-4de9-8d00-0df96d945973"
      },
      "source": [
        "type(dc)"
      ],
      "execution_count": null,
      "outputs": [
        {
          "output_type": "execute_result",
          "data": {
            "text/plain": [
              "dict"
            ]
          },
          "metadata": {
            "tags": []
          },
          "execution_count": 137
        }
      ]
    },
    {
      "cell_type": "markdown",
      "metadata": {
        "id": "fKLMqt1QfWBn"
      },
      "source": [
        "a cada par `clave:valor` se le conoce como un *item*. \n",
        "\n",
        "Alternativamente, podemos crear un objeto tipo `dict` directamente con el constructor `dict`"
      ]
    },
    {
      "cell_type": "code",
      "metadata": {
        "id": "9rAgLNcffT3u",
        "colab": {
          "base_uri": "https://localhost:8080/"
        },
        "outputId": "0aebc8d3-9f0d-4516-9d74-6701b8f50eb5"
      },
      "source": [
        "dc2 = dict(dos = 2, tres = 3, uno = 1)\n",
        "print(dc2)"
      ],
      "execution_count": null,
      "outputs": [
        {
          "output_type": "stream",
          "text": [
            "{'dos': 2, 'tres': 3, 'uno': 1}\n"
          ],
          "name": "stdout"
        }
      ]
    },
    {
      "cell_type": "markdown",
      "metadata": {
        "id": "NHMh-ewKGu7h"
      },
      "source": [
        "Otra forma de construir diccionarios es pasarlo como una lista de tuplas ante el constructor \n",
        "\n",
        "```dict([(x,y),...,(a,b)])```"
      ]
    },
    {
      "cell_type": "code",
      "metadata": {
        "id": "rRLeAjBafbvE",
        "colab": {
          "base_uri": "https://localhost:8080/"
        },
        "outputId": "18ec003b-af78-47aa-8ea5-e8e35e230aa0"
      },
      "source": [
        "dc3 = dict([(\"dos\",2),('tres', 3),(\"uno\",1)])\n",
        "print(dc3)"
      ],
      "execution_count": null,
      "outputs": [
        {
          "output_type": "stream",
          "text": [
            "{'dos': 2, 'tres': 3, 'uno': 1}\n"
          ],
          "name": "stdout"
        }
      ]
    },
    {
      "cell_type": "markdown",
      "metadata": {
        "id": "LDvXt0J7hvTA"
      },
      "source": [
        "Supongamos que queremos construir un diccionario a partir de `codigo_postal`"
      ]
    },
    {
      "cell_type": "code",
      "metadata": {
        "id": "231dKN4Kfe40",
        "colab": {
          "base_uri": "https://localhost:8080/"
        },
        "outputId": "95456ae4-d979-41e1-b78a-662583eb1e73"
      },
      "source": [
        "cod_post = dict(codigo_postal)\n",
        "print(cod_post)"
      ],
      "execution_count": null,
      "outputs": [
        {
          "output_type": "stream",
          "text": [
            "{'USA': 21315, 'COL': 15648, 'BRA': 48915}\n"
          ],
          "name": "stdout"
        }
      ]
    },
    {
      "cell_type": "markdown",
      "metadata": {
        "id": "p0AwArU7hz4Q"
      },
      "source": [
        "donde las claves sean el país y los valores los códigos asociados. Utilizando el constructor `dict` esto se puede realizar fácilmente:"
      ]
    },
    {
      "cell_type": "markdown",
      "metadata": {
        "id": "6VcqBm2Gh737"
      },
      "source": [
        "En el caso de la variable `codigos`"
      ]
    },
    {
      "cell_type": "code",
      "metadata": {
        "id": "03338Ppvh3UT"
      },
      "source": [
        "codigos = [(86, \"China\"), (91, 'Japón'), (76, 'Corea')]"
      ],
      "execution_count": null,
      "outputs": []
    },
    {
      "cell_type": "markdown",
      "metadata": {
        "id": "tKoMIn0Kh_Z-"
      },
      "source": [
        "esto no será posible debido a que que las posiciones de país y código están intercambiadas"
      ]
    },
    {
      "cell_type": "code",
      "metadata": {
        "id": "-Hc7JhLDiA4f",
        "colab": {
          "base_uri": "https://localhost:8080/"
        },
        "outputId": "6ca082fd-7c5d-47e1-9f29-2f06fc6c80c1"
      },
      "source": [
        "dict(codigos)"
      ],
      "execution_count": null,
      "outputs": [
        {
          "output_type": "execute_result",
          "data": {
            "text/plain": [
              "{76: 'Corea', 86: 'China', 91: 'Japón'}"
            ]
          },
          "metadata": {
            "tags": []
          },
          "execution_count": 144
        }
      ]
    },
    {
      "cell_type": "markdown",
      "metadata": {
        "id": "6V8jcfi7iE0u"
      },
      "source": [
        "Para construir el diccionario en la forma requerida, podemos construirlo como un \"diccionario por comprensión\" como `{i:j for i,j in expresion}`"
      ]
    },
    {
      "cell_type": "code",
      "metadata": {
        "id": "g7wP4qDMiBni",
        "colab": {
          "base_uri": "https://localhost:8080/"
        },
        "outputId": "6cce7a00-b0a3-4d52-ab54-b31414596259"
      },
      "source": [
        "{codigo: pais for pais, codigo in codigos}"
      ],
      "execution_count": null,
      "outputs": [
        {
          "output_type": "execute_result",
          "data": {
            "text/plain": [
              "{'China': 86, 'Corea': 76, 'Japón': 91}"
            ]
          },
          "metadata": {
            "tags": []
          },
          "execution_count": 146
        }
      ]
    },
    {
      "cell_type": "markdown",
      "metadata": {
        "id": "GVAN2brjiJSp"
      },
      "source": [
        "otro ejemplo, podemos construir las claves con cadenas f:"
      ]
    },
    {
      "cell_type": "code",
      "metadata": {
        "id": "em9jL3meiGhy"
      },
      "source": [
        "diccio = {f'elemento{i}' : i ** 2 for i in range(5)}"
      ],
      "execution_count": null,
      "outputs": []
    },
    {
      "cell_type": "markdown",
      "metadata": {
        "id": "h07lYIApiVDO"
      },
      "source": [
        "A diferencia de los elementos dentro de una lista o tupla, los items del diccionario no tienen una noción de orden o posición. \n"
      ]
    },
    {
      "cell_type": "code",
      "metadata": {
        "id": "v6N_5GIsiM7a",
        "colab": {
          "base_uri": "https://localhost:8080/"
        },
        "outputId": "aa397710-48c9-4425-e386-8e4182b7af67"
      },
      "source": [
        "try :\n",
        "  diccio[0]\n",
        "except :\n",
        "  print('No se puede indexar a un diccionario como una lista')"
      ],
      "execution_count": null,
      "outputs": [
        {
          "output_type": "stream",
          "text": [
            "No se puede indexar a un diccionario como una lista\n"
          ],
          "name": "stdout"
        }
      ]
    },
    {
      "cell_type": "markdown",
      "metadata": {
        "id": "HFV37sBwiZSX"
      },
      "source": [
        "Podemos acceder o definir un item del diccionario mediante la sintaxis de indexación utilizada para las listas y tuplas, excepto que el índice no es numérico sino una clave válida dentro del diccionario:"
      ]
    },
    {
      "cell_type": "code",
      "metadata": {
        "id": "fGYPMiJ7iXNA",
        "colab": {
          "base_uri": "https://localhost:8080/"
        },
        "outputId": "efb3a84b-8900-4924-aa79-ca7fb207cc9e"
      },
      "source": [
        "diccio['elemento3']"
      ],
      "execution_count": null,
      "outputs": [
        {
          "output_type": "execute_result",
          "data": {
            "text/plain": [
              "9"
            ]
          },
          "metadata": {
            "tags": []
          },
          "execution_count": 153
        }
      ]
    },
    {
      "cell_type": "markdown",
      "metadata": {
        "id": "wnL5KzzZkao6"
      },
      "source": [
        "Podemos incluso pasarle un nuevo `key` a nuestro diccionario, y asignarle un valo"
      ]
    },
    {
      "cell_type": "code",
      "metadata": {
        "id": "MqOwuZIYicvJ",
        "colab": {
          "base_uri": "https://localhost:8080/"
        },
        "outputId": "ee7a42ec-952f-4e73-9142-e4f312ac918a"
      },
      "source": [
        "diccio['elemento0'] = 100\n",
        "print(diccio)"
      ],
      "execution_count": null,
      "outputs": [
        {
          "output_type": "stream",
          "text": [
            "{'elemento0': 100, 'elemento1': 1, 'elemento2': 4, 'elemento3': 9, 'elemento4': 16}\n"
          ],
          "name": "stdout"
        }
      ]
    },
    {
      "cell_type": "markdown",
      "metadata": {
        "id": "B5a2QmTNihAV"
      },
      "source": [
        "Al igual que con las listas y tuplas, podemos crear diccionarios vacios para luego agregarles las tuplas `(clave:valor)`"
      ]
    },
    {
      "cell_type": "code",
      "metadata": {
        "id": "HaD6fS_yieko",
        "colab": {
          "base_uri": "https://localhost:8080/"
        },
        "outputId": "cbbfe700-54fb-4767-9ccf-32224aeac127"
      },
      "source": [
        "diccio_1 = {\"nombres\" : ['Daniel', 'María', \"José\"], \"edades\": [18, 24, 36]}\n",
        "print(diccio_1)"
      ],
      "execution_count": null,
      "outputs": [
        {
          "output_type": "stream",
          "text": [
            "{'nombres': ['Daniel', 'María', 'José'], 'edades': [18, 24, 36]}\n"
          ],
          "name": "stdout"
        }
      ]
    },
    {
      "cell_type": "markdown",
      "metadata": {
        "id": "cpjb4gquio-N"
      },
      "source": [
        "Tenga en cuenta que las claves son únicas dentro de un diccionario, mientras que los valores pueden no serlo. Los valores de un diccionario pueden ser de cualquier tipo, pero las claves deben ser de un tipo de dato inmutable, como cadenas, números o tuplas. De manera que podemos construir estructuras más complejas como la siguiente:"
      ]
    },
    {
      "cell_type": "markdown",
      "metadata": {
        "id": "JZWIqK7LizKE"
      },
      "source": [
        "En este caso vamos a acceder a los diferentes elementos del diccionario individualmente o al *item* completo si así lo necesitamos. Esto se puede realizar utilizando los métodos `keys`, `values` y `items`, respectivamente. "
      ]
    },
    {
      "cell_type": "code",
      "metadata": {
        "id": "oEYSwMBfiwyA",
        "colab": {
          "base_uri": "https://localhost:8080/"
        },
        "outputId": "5866f7be-9944-4517-a6b8-ffbf90c55838"
      },
      "source": [
        "diccio_1.keys()"
      ],
      "execution_count": null,
      "outputs": [
        {
          "output_type": "execute_result",
          "data": {
            "text/plain": [
              "dict_keys(['nombres', 'edades'])"
            ]
          },
          "metadata": {
            "tags": []
          },
          "execution_count": 156
        }
      ]
    },
    {
      "cell_type": "code",
      "metadata": {
        "id": "BwIwQcMki3Wi",
        "colab": {
          "base_uri": "https://localhost:8080/"
        },
        "outputId": "d7edf1f9-66e2-4ce8-a4ef-c49064963ad8"
      },
      "source": [
        "diccio_1.values()"
      ],
      "execution_count": null,
      "outputs": [
        {
          "output_type": "execute_result",
          "data": {
            "text/plain": [
              "dict_values([['Daniel', 'María', 'José'], [18, 24, 36]])"
            ]
          },
          "metadata": {
            "tags": []
          },
          "execution_count": 157
        }
      ]
    },
    {
      "cell_type": "code",
      "metadata": {
        "id": "yp8qK0dwi4PR",
        "colab": {
          "base_uri": "https://localhost:8080/"
        },
        "outputId": "b078306e-67ed-43db-f8d0-8b6abc33b832"
      },
      "source": [
        "diccio_1.items()"
      ],
      "execution_count": null,
      "outputs": [
        {
          "output_type": "execute_result",
          "data": {
            "text/plain": [
              "dict_items([('nombres', ['Daniel', 'María', 'José']), ('edades', [18, 24, 36])])"
            ]
          },
          "metadata": {
            "tags": []
          },
          "execution_count": 158
        }
      ]
    },
    {
      "cell_type": "markdown",
      "metadata": {
        "id": "0WstQN28i8KM"
      },
      "source": [
        "Podemos utilizar estos métodos para iterar sobre alguno de los elementos"
      ]
    },
    {
      "cell_type": "code",
      "metadata": {
        "id": "jkUn-whLi5qu",
        "colab": {
          "base_uri": "https://localhost:8080/"
        },
        "outputId": "a5f3cc58-bf85-412f-d482-40d7329e6e59"
      },
      "source": [
        "for key in diccio_1.keys():\n",
        "  print(key)"
      ],
      "execution_count": null,
      "outputs": [
        {
          "output_type": "stream",
          "text": [
            "nombres\n",
            "edades\n"
          ],
          "name": "stdout"
        }
      ]
    },
    {
      "cell_type": "markdown",
      "metadata": {
        "id": "-sSK_7jzHPek"
      },
      "source": [
        "Note que por defecto, si iteramos sobre el diccionario, estaremos iterando sobre las claves, por lo que en este caso no hay necesidad de utilizar el método `keys`"
      ]
    },
    {
      "cell_type": "code",
      "metadata": {
        "id": "ig8NmEKCHGun",
        "colab": {
          "base_uri": "https://localhost:8080/"
        },
        "outputId": "ea103d07-14b3-493f-d6e6-db70db70277e"
      },
      "source": [
        "for key in diccio_1:\n",
        "  print(key)"
      ],
      "execution_count": null,
      "outputs": [
        {
          "output_type": "stream",
          "text": [
            "nombres\n",
            "edades\n"
          ],
          "name": "stdout"
        }
      ]
    },
    {
      "cell_type": "code",
      "metadata": {
        "id": "g56E7gqUi-cY",
        "colab": {
          "base_uri": "https://localhost:8080/"
        },
        "outputId": "d737a977-de8e-46ba-b059-f35f0a6dcce7"
      },
      "source": [
        "for value in diccio_1.values():\n",
        "  print(value)"
      ],
      "execution_count": null,
      "outputs": [
        {
          "output_type": "stream",
          "text": [
            "['Daniel', 'María', 'José']\n",
            "[18, 24, 36]\n"
          ],
          "name": "stdout"
        }
      ]
    },
    {
      "cell_type": "code",
      "metadata": {
        "id": "0nAbCtNXjFWW",
        "colab": {
          "base_uri": "https://localhost:8080/"
        },
        "outputId": "76b4891c-95e8-4406-aac4-4832dc77ef97"
      },
      "source": [
        "for key, value in diccio_1.items():\n",
        "  print(key, value)"
      ],
      "execution_count": null,
      "outputs": [
        {
          "output_type": "stream",
          "text": [
            "nombres ['Daniel', 'María', 'José']\n",
            "edades [18, 24, 36]\n"
          ],
          "name": "stdout"
        }
      ]
    },
    {
      "cell_type": "markdown",
      "metadata": {
        "id": "qcRnTYv2jKkw"
      },
      "source": [
        "**Ejercicio 5:** Dado el diccionario\n",
        "\n",
        "> \n",
        "    notas = {'Ana':9, 'Luis':7, 'Pedro':2, 'Marta':5, 'Nerea':4, 'Pablo':6}\n",
        "\n",
        "  1) cree una lista que contenga notas mayores o iguales a 5.\n",
        "\n",
        "  2) cree una lista que contenga los nombres de los estudiantes que contengan la letra \"a\".\n",
        "\n",
        "  3) cree una lista que contenga los nombres de los estudiantes que aprobaron (nota >= 5) "
      ]
    },
    {
      "cell_type": "code",
      "metadata": {
        "id": "e5t2HcI-jHIe"
      },
      "source": [
        ""
      ],
      "execution_count": null,
      "outputs": []
    },
    {
      "cell_type": "markdown",
      "metadata": {
        "id": "d6b1p5WfkoMj"
      },
      "source": [
        "**Ejercicio 6:** Dada la siguiente lista, itere sobre ella y cuente la aparición de cada elemento y cree un diccionario para mostrar el recuento de cada elemento\n",
        "\n",
        "> \n",
        "    Lista = [11, 45, 8, 11, 23, 45, 23, 45, 89]"
      ]
    },
    {
      "cell_type": "code",
      "metadata": {
        "id": "MGg-_4RWPYc7"
      },
      "source": [
        ""
      ],
      "execution_count": null,
      "outputs": []
    },
    {
      "cell_type": "code",
      "metadata": {
        "id": "mr6XuFx1dM52"
      },
      "source": [
        ""
      ],
      "execution_count": null,
      "outputs": []
    },
    {
      "cell_type": "markdown",
      "metadata": {
        "id": "F1GYHQm3tg51"
      },
      "source": [
        "Consultar ver variables"
      ]
    }
  ]
}